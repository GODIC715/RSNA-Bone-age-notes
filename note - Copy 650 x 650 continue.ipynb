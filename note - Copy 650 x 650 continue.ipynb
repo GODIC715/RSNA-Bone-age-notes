{
 "cells": [
  {
   "cell_type": "code",
   "execution_count": 1,
   "id": "ccf65398",
   "metadata": {
    "execution": {
     "iopub.execute_input": "2022-04-10T19:52:37.606014Z",
     "iopub.status.busy": "2022-04-10T19:52:37.604415Z",
     "iopub.status.idle": "2022-04-10T19:52:43.105464Z",
     "shell.execute_reply": "2022-04-10T19:52:43.106001Z",
     "shell.execute_reply.started": "2022-04-10T19:38:28.428417Z"
    },
    "papermill": {
     "duration": 5.525787,
     "end_time": "2022-04-10T19:52:43.106302",
     "exception": false,
     "start_time": "2022-04-10T19:52:37.580515",
     "status": "completed"
    },
    "tags": []
   },
   "outputs": [],
   "source": [
    "import re, math\n",
    "import numpy as np\n",
    "from functools import partial\n",
    "from sklearn.model_selection import train_test_split\n",
    "# from kaggle_datasets import KaggleDatasets\n",
    "import tensorflow as tf\n",
    "from tensorflow.keras import Input\n",
    "from tensorflow.keras import backend as K\n",
    "from tensorflow.keras.callbacks import ModelCheckpoint, EarlyStopping, ReduceLROnPlateau\n",
    "from tensorflow.keras.applications.inception_v3 import InceptionV3\n",
    "from tensorflow.keras.layers import Dense, Flatten, AveragePooling2D, concatenate\n",
    "from tensorflow.keras.optimizers import Adam\n",
    "from tensorflow.keras.models import Model"
   ]
  },
  {
   "cell_type": "code",
   "execution_count": 2,
   "id": "79b39bb2",
   "metadata": {
    "execution": {
     "iopub.execute_input": "2022-04-10T19:52:43.141895Z",
     "iopub.status.busy": "2022-04-10T19:52:43.141064Z",
     "iopub.status.idle": "2022-04-10T19:52:49.378671Z",
     "shell.execute_reply": "2022-04-10T19:52:49.378184Z",
     "shell.execute_reply.started": "2022-04-10T19:38:33.685996Z"
    },
    "papermill": {
     "duration": 6.256491,
     "end_time": "2022-04-10T19:52:49.378813",
     "exception": false,
     "start_time": "2022-04-10T19:52:43.122322",
     "status": "completed"
    },
    "tags": []
   },
   "outputs": [
    {
     "name": "stdout",
     "output_type": "stream",
     "text": [
      "Number of replicas: 1\n"
     ]
    }
   ],
   "source": [
    "try:\n",
    "    tpu = tf.distribute.cluster_resolver.TPUClusterResolver()\n",
    "    print('Device:', tpu.master())\n",
    "    tf.config.experimental_connect_to_cluster(tpu)\n",
    "    tf.tpu.experimental.initialize_tpu_system(tpu)\n",
    "    strategy = tf.distribute.experimental.TPUStrategy(tpu)\n",
    "except:\n",
    "    strategy = tf.distribute.get_strategy()\n",
    "print('Number of replicas:', strategy.num_replicas_in_sync)"
   ]
  },
  {
   "cell_type": "code",
   "execution_count": 3,
   "id": "b0a98291",
   "metadata": {
    "execution": {
     "iopub.execute_input": "2022-04-10T19:52:49.420309Z",
     "iopub.status.busy": "2022-04-10T19:52:49.419745Z",
     "iopub.status.idle": "2022-04-10T19:52:49.939844Z",
     "shell.execute_reply": "2022-04-10T19:52:49.939264Z",
     "shell.execute_reply.started": "2022-04-10T19:38:39.819090Z"
    },
    "papermill": {
     "duration": 0.54344,
     "end_time": "2022-04-10T19:52:49.940000",
     "exception": false,
     "start_time": "2022-04-10T19:52:49.396560",
     "status": "completed"
    },
    "tags": []
   },
   "outputs": [],
   "source": [
    "AUTOTUNE = tf.data.experimental.AUTOTUNE\n",
    "BATCH_SIZE = 16 * strategy.num_replicas_in_sync\n",
    "IMAGE_SIZE = [600, 600]\n",
    "# GCS_PATH = KaggleDatasets().get_gcs_path()\n",
    "HEIGHT = IMAGE_SIZE[0]\n",
    "WIDTH = IMAGE_SIZE[1]\n",
    "CHANNELS = 1"
   ]
  },
  {
   "cell_type": "code",
   "execution_count": 4,
   "id": "2f4fb11c",
   "metadata": {
    "execution": {
     "iopub.execute_input": "2022-04-10T19:52:49.977290Z",
     "iopub.status.busy": "2022-04-10T19:52:49.976696Z",
     "iopub.status.idle": "2022-04-10T19:52:49.979593Z",
     "shell.execute_reply": "2022-04-10T19:52:49.979042Z",
     "shell.execute_reply.started": "2022-04-10T19:38:40.329131Z"
    },
    "papermill": {
     "duration": 0.023532,
     "end_time": "2022-04-10T19:52:49.979721",
     "exception": false,
     "start_time": "2022-04-10T19:52:49.956189",
     "status": "completed"
    },
    "tags": []
   },
   "outputs": [],
   "source": [
    "def decode_image(image):\n",
    "    image = tf.image.decode_jpeg(image, channels=3)\n",
    "    image = tf.image.rgb_to_grayscale(image)\n",
    "    image = tf.cast(image, tf.float32) / 255.0\n",
    "    image = tf.image.resize(image, IMAGE_SIZE)\n",
    "    return image"
   ]
  },
  {
   "cell_type": "code",
   "execution_count": 5,
   "id": "90c36a76",
   "metadata": {
    "execution": {
     "iopub.execute_input": "2022-04-10T19:52:50.019156Z",
     "iopub.status.busy": "2022-04-10T19:52:50.014234Z",
     "iopub.status.idle": "2022-04-10T19:52:50.021327Z",
     "shell.execute_reply": "2022-04-10T19:52:50.020762Z",
     "shell.execute_reply.started": "2022-04-10T19:38:40.335269Z"
    },
    "papermill": {
     "duration": 0.025848,
     "end_time": "2022-04-10T19:52:50.021466",
     "exception": false,
     "start_time": "2022-04-10T19:52:49.995618",
     "status": "completed"
    },
    "tags": []
   },
   "outputs": [],
   "source": [
    "def read_tfrecord(example):\n",
    "    tfrecord_format = {\n",
    "        'image': tf.io.FixedLenFeature([], tf.string),\n",
    "        'image_id': tf.io.FixedLenFeature([], tf.string),\n",
    "        'boneage': tf.io.FixedLenFeature([], tf.int64),\n",
    "        'male': tf.io.FixedLenFeature([], tf.int64)\n",
    "    }\n",
    "    example = tf.io.parse_single_example(example, tfrecord_format)\n",
    "    image = decode_image(example['image'])\n",
    "    boneAge = tf.cast(example['boneage'], tf.int32)\n",
    "    male = tf.cast(example['male'], tf.bool)\n",
    "    inputs = {}\n",
    "    inputs['image'] = image\n",
    "    inputs['gender'] = male\n",
    "    return inputs, boneAge"
   ]
  },
  {
   "cell_type": "code",
   "execution_count": 6,
   "id": "8f47ced4",
   "metadata": {
    "execution": {
     "iopub.execute_input": "2022-04-10T19:52:50.056587Z",
     "iopub.status.busy": "2022-04-10T19:52:50.056031Z",
     "iopub.status.idle": "2022-04-10T19:52:50.060245Z",
     "shell.execute_reply": "2022-04-10T19:52:50.060687Z",
     "shell.execute_reply.started": "2022-04-10T19:38:40.345223Z"
    },
    "papermill": {
     "duration": 0.023319,
     "end_time": "2022-04-10T19:52:50.060828",
     "exception": false,
     "start_time": "2022-04-10T19:52:50.037509",
     "status": "completed"
    },
    "tags": []
   },
   "outputs": [],
   "source": [
    "def load_dataset(filenames):\n",
    "    ignore_order = tf.data.Options()\n",
    "    ignore_order.experimental_deterministic = False # disable order, increase speed\n",
    "    dataset = tf.data.TFRecordDataset(filenames, num_parallel_reads=AUTOTUNE) # automatically interleaves reads from multiple files\n",
    "    dataset = dataset.with_options(ignore_order) # uses data as soon as it streams in, rather than in its original order\n",
    "    dataset = dataset.map(partial(read_tfrecord), num_parallel_calls=AUTOTUNE)\n",
    "    return dataset"
   ]
  },
  {
   "cell_type": "code",
   "execution_count": 7,
   "id": "74b82e87",
   "metadata": {
    "execution": {
     "iopub.execute_input": "2022-04-10T19:52:50.096130Z",
     "iopub.status.busy": "2022-04-10T19:52:50.095514Z",
     "iopub.status.idle": "2022-04-10T19:52:50.190549Z",
     "shell.execute_reply": "2022-04-10T19:52:50.191001Z",
     "shell.execute_reply.started": "2022-04-10T19:38:40.353761Z"
    },
    "papermill": {
     "duration": 0.114837,
     "end_time": "2022-04-10T19:52:50.191167",
     "exception": false,
     "start_time": "2022-04-10T19:52:50.076330",
     "status": "completed"
    },
    "tags": []
   },
   "outputs": [],
   "source": [
    "TRAINING_FILENAMES, VALID_FILENAMES = train_test_split(\n",
    "    # tf.io.gfile.glob(GCS_PATH + '/bone_age_tfrecords/*.tfrec'),\n",
    "    tf.io.gfile.glob('../bone-age-tfrecords/*.tfrec'),\n",
    "    test_size=0.2, random_state=2018\n",
    ")"
   ]
  },
  {
   "cell_type": "code",
   "execution_count": 8,
   "id": "f004b021",
   "metadata": {
    "execution": {
     "iopub.execute_input": "2022-04-10T19:52:50.226775Z",
     "iopub.status.busy": "2022-04-10T19:52:50.226196Z",
     "iopub.status.idle": "2022-04-10T19:52:50.244194Z",
     "shell.execute_reply": "2022-04-10T19:52:50.243692Z",
     "shell.execute_reply.started": "2022-04-10T19:38:40.456897Z"
    },
    "papermill": {
     "duration": 0.037242,
     "end_time": "2022-04-10T19:52:50.244331",
     "exception": false,
     "start_time": "2022-04-10T19:52:50.207089",
     "status": "completed"
    },
    "tags": []
   },
   "outputs": [],
   "source": [
    "def custom_data_augment(inputs, boneAge):\n",
    "    image = inputs['image']\n",
    "    p_rotation = tf.random.uniform([], 0, 1.0, dtype=tf.float32)\n",
    "    p_spatial = tf.random.uniform([], 0, 1.0, dtype=tf.float32)\n",
    "    p_rotate = tf.random.uniform([], 0, 1.0, dtype=tf.float32)\n",
    "    # p_pixel_1 = tf.random.uniform([], 0, 1.0, dtype=tf.float32)\n",
    "    p_pixel_2 = tf.random.uniform([], 0, 1.0, dtype=tf.float32)\n",
    "    p_pixel_3 = tf.random.uniform([], 0, 1.0, dtype=tf.float32)\n",
    "    p_shear = tf.random.uniform([], 0, 1.0, dtype=tf.float32)\n",
    "    p_crop = tf.random.uniform([], 0, 1.0, dtype=tf.float32)\n",
    "    \n",
    "    # Shear\n",
    "    if p_shear > .2:\n",
    "        if p_shear > .6:\n",
    "            image = transform_shear(image, HEIGHT, shear=20.)\n",
    "        else:\n",
    "            image = transform_shear(image, HEIGHT, shear=-20.)\n",
    "            \n",
    "    # Rotation\n",
    "    if p_rotation > .2:\n",
    "        if p_rotation > .6:\n",
    "            image = transform_rotation(image, HEIGHT, rotation=45.)\n",
    "        else:\n",
    "            image = transform_rotation(image, HEIGHT, rotation=-45.)\n",
    "            \n",
    "    # Flips\n",
    "    image = tf.image.random_flip_left_right(image)\n",
    "    image = tf.image.random_flip_up_down(image)\n",
    "    if p_spatial > .75:\n",
    "        image = tf.image.transpose(image)\n",
    "        \n",
    "    # Rotates\n",
    "    if p_rotate > .75:\n",
    "        image = tf.image.rot90(image, k=3) # rotate 270º\n",
    "    elif p_rotate > .5:\n",
    "        image = tf.image.rot90(image, k=2) # rotate 180º\n",
    "    elif p_rotate > .25:\n",
    "        image = tf.image.rot90(image, k=1) # rotate 90º\n",
    "        \n",
    "    # Pixel-level transforms\n",
    "    # if p_pixel_1 >= .4:\n",
    "    #     image = tf.image.random_saturation(image, lower=.7, upper=1.3)\n",
    "    if p_pixel_2 >= .4:\n",
    "        image = tf.image.random_contrast(image, lower=.8, upper=1.2)\n",
    "    if p_pixel_3 >= .4:\n",
    "        image = tf.image.random_brightness(image, max_delta=.1)\n",
    "        \n",
    "    # Crops\n",
    "    if p_crop > .7:\n",
    "        if p_crop > .9:\n",
    "            image = tf.image.central_crop(image, central_fraction=.6)\n",
    "        elif p_crop > .8:\n",
    "            image = tf.image.central_crop(image, central_fraction=.7)\n",
    "        else:\n",
    "            image = tf.image.central_crop(image, central_fraction=.8)\n",
    "    elif p_crop > .4:\n",
    "        crop_size = tf.random.uniform([], int(HEIGHT*.6), HEIGHT, dtype=tf.int32)\n",
    "        image = tf.image.random_crop(image, size=[crop_size, crop_size, CHANNELS])\n",
    "            \n",
    "    image = tf.image.resize(image, size=[HEIGHT, WIDTH])\n",
    "\n",
    "    inputs['image'] = image\n",
    "    return inputs, boneAge"
   ]
  },
  {
   "cell_type": "code",
   "execution_count": 9,
   "id": "c631d672",
   "metadata": {
    "execution": {
     "iopub.execute_input": "2022-04-10T19:52:50.282425Z",
     "iopub.status.busy": "2022-04-10T19:52:50.281779Z",
     "iopub.status.idle": "2022-04-10T19:52:50.301863Z",
     "shell.execute_reply": "2022-04-10T19:52:50.302481Z",
     "shell.execute_reply.started": "2022-04-10T19:38:40.476951Z"
    },
    "papermill": {
     "duration": 0.041691,
     "end_time": "2022-04-10T19:52:50.302655",
     "exception": false,
     "start_time": "2022-04-10T19:52:50.260964",
     "status": "completed"
    },
    "tags": []
   },
   "outputs": [],
   "source": [
    "# data augmentation @cdeotte kernel: https://www.kaggle.com/cdeotte/rotation-augmentation-gpu-tpu-0-96\n",
    "def transform_rotation(image, height, rotation):\n",
    "    # input image - is one image of size [dim,dim,3] not a batch of [b,dim,dim,3]\n",
    "    # output - image randomly rotated\n",
    "    DIM = height\n",
    "    XDIM = DIM%2 #fix for size 331\n",
    "    \n",
    "    rotation = rotation * tf.random.uniform([1],dtype='float32')\n",
    "    # CONVERT DEGREES TO RADIANS\n",
    "    rotation = math.pi * rotation / 180.\n",
    "    \n",
    "    # ROTATION MATRIX\n",
    "    c1 = tf.math.cos(rotation)\n",
    "    s1 = tf.math.sin(rotation)\n",
    "    one = tf.constant([1],dtype='float32')\n",
    "    zero = tf.constant([0],dtype='float32')\n",
    "    rotation_matrix = tf.reshape(tf.concat([c1,s1,zero, -s1,c1,zero, zero,zero,one],axis=0),[3,3])\n",
    "\n",
    "    # LIST DESTINATION PIXEL INDICES\n",
    "    x = tf.repeat( tf.range(DIM//2,-DIM//2,-1), DIM )\n",
    "    y = tf.tile( tf.range(-DIM//2,DIM//2),[DIM] )\n",
    "    z = tf.ones([DIM*DIM],dtype='int32')\n",
    "    idx = tf.stack( [x,y,z] )\n",
    "    \n",
    "    # ROTATE DESTINATION PIXELS ONTO ORIGIN PIXELS\n",
    "    idx2 = K.dot(rotation_matrix,tf.cast(idx,dtype='float32'))\n",
    "    idx2 = K.cast(idx2,dtype='int32')\n",
    "    idx2 = K.clip(idx2,-DIM//2+XDIM+1,DIM//2)\n",
    "    \n",
    "    # FIND ORIGIN PIXEL VALUES \n",
    "    idx3 = tf.stack( [DIM//2-idx2[0,], DIM//2-1+idx2[1,]] )\n",
    "    d = tf.gather_nd(image, tf.transpose(idx3))\n",
    "        \n",
    "    return tf.reshape(d,[DIM,DIM,1])\n",
    "\n",
    "def transform_shear(image, height, shear):\n",
    "    # input image - is one image of size [dim,dim,3] not a batch of [b,dim,dim,3]\n",
    "    # output - image randomly sheared\n",
    "    DIM = height\n",
    "    XDIM = DIM%2 #fix for size 331\n",
    "    \n",
    "    shear = shear * tf.random.uniform([1],dtype='float32')\n",
    "    shear = math.pi * shear / 180.\n",
    "        \n",
    "    # SHEAR MATRIX\n",
    "    one = tf.constant([1],dtype='float32')\n",
    "    zero = tf.constant([0],dtype='float32')\n",
    "    c2 = tf.math.cos(shear)\n",
    "    s2 = tf.math.sin(shear)\n",
    "    shear_matrix = tf.reshape(tf.concat([one,s2,zero, zero,c2,zero, zero,zero,one],axis=0),[3,3])    \n",
    "\n",
    "    # LIST DESTINATION PIXEL INDICES\n",
    "    x = tf.repeat( tf.range(DIM//2,-DIM//2,-1), DIM )\n",
    "    y = tf.tile( tf.range(-DIM//2,DIM//2),[DIM] )\n",
    "    z = tf.ones([DIM*DIM],dtype='int32')\n",
    "    idx = tf.stack( [x,y,z] )\n",
    "    \n",
    "    # ROTATE DESTINATION PIXELS ONTO ORIGIN PIXELS\n",
    "    idx2 = K.dot(shear_matrix,tf.cast(idx,dtype='float32'))\n",
    "    idx2 = K.cast(idx2,dtype='int32')\n",
    "    idx2 = K.clip(idx2,-DIM//2+XDIM+1,DIM//2)\n",
    "    \n",
    "    # FIND ORIGIN PIXEL VALUES \n",
    "    idx3 = tf.stack( [DIM//2-idx2[0,], DIM//2-1+idx2[1,]] )\n",
    "    d = tf.gather_nd(image, tf.transpose(idx3))\n",
    "        \n",
    "    return tf.reshape(d,[DIM,DIM,1])"
   ]
  },
  {
   "cell_type": "code",
   "execution_count": 10,
   "id": "1850b105",
   "metadata": {
    "execution": {
     "iopub.execute_input": "2022-04-10T19:52:50.352714Z",
     "iopub.status.busy": "2022-04-10T19:52:50.351786Z",
     "iopub.status.idle": "2022-04-10T19:52:50.355739Z",
     "shell.execute_reply": "2022-04-10T19:52:50.356342Z",
     "shell.execute_reply.started": "2022-04-10T19:38:40.500638Z"
    },
    "papermill": {
     "duration": 0.034942,
     "end_time": "2022-04-10T19:52:50.356507",
     "exception": false,
     "start_time": "2022-04-10T19:52:50.321565",
     "status": "completed"
    },
    "tags": []
   },
   "outputs": [],
   "source": [
    "def get_training_dataset():\n",
    "    dataset = load_dataset(TRAINING_FILENAMES)  \n",
    "    dataset = dataset.map(custom_data_augment, num_parallel_calls=AUTOTUNE)  \n",
    "    dataset = dataset.repeat()\n",
    "    dataset = dataset.shuffle(1024)\n",
    "    dataset = dataset.batch(BATCH_SIZE)\n",
    "    dataset = dataset.prefetch(AUTOTUNE)\n",
    "    return dataset"
   ]
  },
  {
   "cell_type": "code",
   "execution_count": 11,
   "id": "6a990c38",
   "metadata": {
    "execution": {
     "iopub.execute_input": "2022-04-10T19:52:50.401347Z",
     "iopub.status.busy": "2022-04-10T19:52:50.399000Z",
     "iopub.status.idle": "2022-04-10T19:52:50.403466Z",
     "shell.execute_reply": "2022-04-10T19:52:50.404084Z",
     "shell.execute_reply.started": "2022-04-10T19:38:40.510367Z"
    },
    "papermill": {
     "duration": 0.028805,
     "end_time": "2022-04-10T19:52:50.404236",
     "exception": false,
     "start_time": "2022-04-10T19:52:50.375431",
     "status": "completed"
    },
    "tags": []
   },
   "outputs": [],
   "source": [
    "def get_validation_dataset():\n",
    "    dataset = load_dataset(VALID_FILENAMES) \n",
    "    dataset = dataset.batch(BATCH_SIZE)\n",
    "    dataset = dataset.cache()\n",
    "    dataset = dataset.prefetch(AUTOTUNE)\n",
    "    return dataset"
   ]
  },
  {
   "cell_type": "code",
   "execution_count": 12,
   "id": "f5331569",
   "metadata": {
    "execution": {
     "iopub.execute_input": "2022-04-10T19:52:50.442253Z",
     "iopub.status.busy": "2022-04-10T19:52:50.441652Z",
     "iopub.status.idle": "2022-04-10T19:52:50.446098Z",
     "shell.execute_reply": "2022-04-10T19:52:50.446622Z",
     "shell.execute_reply.started": "2022-04-10T19:38:40.518842Z"
    },
    "papermill": {
     "duration": 0.025189,
     "end_time": "2022-04-10T19:52:50.446775",
     "exception": false,
     "start_time": "2022-04-10T19:52:50.421586",
     "status": "completed"
    },
    "tags": []
   },
   "outputs": [],
   "source": [
    "def count_data_items(filenames):\n",
    "    n = [int(re.compile(r\"-([0-9]*)\\.\").search(filename).group(1)) for filename in filenames]\n",
    "    return np.sum(n)"
   ]
  },
  {
   "cell_type": "code",
   "execution_count": 13,
   "id": "c95ff237",
   "metadata": {
    "execution": {
     "iopub.execute_input": "2022-04-10T19:52:50.489102Z",
     "iopub.status.busy": "2022-04-10T19:52:50.488134Z",
     "iopub.status.idle": "2022-04-10T19:52:50.494803Z",
     "shell.execute_reply": "2022-04-10T19:52:50.496020Z",
     "shell.execute_reply.started": "2022-04-10T19:38:40.530532Z"
    },
    "papermill": {
     "duration": 0.028672,
     "end_time": "2022-04-10T19:52:50.496321",
     "exception": false,
     "start_time": "2022-04-10T19:52:50.467649",
     "status": "completed"
    },
    "tags": []
   },
   "outputs": [
    {
     "name": "stdout",
     "output_type": "stream",
     "text": [
      "Dataset: 10088 training images, 2523 validation images\n"
     ]
    }
   ],
   "source": [
    "NUM_TRAINING_IMAGES = count_data_items(TRAINING_FILENAMES)\n",
    "NUM_VALIDATION_IMAGES = count_data_items(VALID_FILENAMES)\n",
    "\n",
    "print('Dataset: {} training images, {} validation images'.format(\n",
    "    NUM_TRAINING_IMAGES, NUM_VALIDATION_IMAGES))"
   ]
  },
  {
   "cell_type": "code",
   "execution_count": 14,
   "id": "2a5ce9c6",
   "metadata": {
    "execution": {
     "iopub.execute_input": "2022-04-10T19:52:50.541580Z",
     "iopub.status.busy": "2022-04-10T19:52:50.540945Z",
     "iopub.status.idle": "2022-04-10T19:52:50.547705Z",
     "shell.execute_reply": "2022-04-10T19:52:50.548296Z",
     "shell.execute_reply.started": "2022-04-10T19:49:03.261704Z"
    },
    "papermill": {
     "duration": 0.031482,
     "end_time": "2022-04-10T19:52:50.548598",
     "exception": false,
     "start_time": "2022-04-10T19:52:50.517116",
     "status": "completed"
    },
    "tags": []
   },
   "outputs": [],
   "source": [
    "bestLr = 0.0107977516232771\n",
    "weight_path = \"{}_weights.best.hdf5\".format('bone_age')\n",
    "\n",
    "checkpoint = ModelCheckpoint(weight_path, monitor='val_loss', verbose=1,\n",
    "                            save_best_only=True, mode='min', save_weights_only=True)\n",
    "\n",
    "early = EarlyStopping(monitor=\"val_loss\", mode=\"min\",\n",
    "                      patience=20)\n",
    "\n",
    "reduceLROnPlat = ReduceLROnPlateau(monitor='val_loss', factor=0.8, patience=5, verbose=1,\n",
    "                                   save_best_only=True, mode='auto', min_delta=0.0001, cooldown=5)\n",
    "optimizer = Adam(learning_rate = bestLr, beta_1 = 0.9, beta_2 = 0.999, epsilon = 0.1)\n",
    "callBacks = [early, reduceLROnPlat, checkpoint]"
   ]
  },
  {
   "cell_type": "code",
   "execution_count": 15,
   "id": "18171c53",
   "metadata": {
    "execution": {
     "iopub.execute_input": "2022-04-10T19:52:50.595607Z",
     "iopub.status.busy": "2022-04-10T19:52:50.589415Z",
     "iopub.status.idle": "2022-04-10T19:53:03.670097Z",
     "shell.execute_reply": "2022-04-10T19:53:03.670560Z",
     "shell.execute_reply.started": "2022-04-10T19:49:06.282767Z"
    },
    "papermill": {
     "duration": 13.102513,
     "end_time": "2022-04-10T19:53:03.670745",
     "exception": false,
     "start_time": "2022-04-10T19:52:50.568232",
     "status": "completed"
    },
    "tags": []
   },
   "outputs": [],
   "source": [
    "with strategy.scope():       \n",
    "    i1 = Input(shape=(IMAGE_SIZE[0], IMAGE_SIZE[1], 1), name='image')\n",
    "    i2 = Input(shape=(1), name='gender')\n",
    "    base = InceptionV3(input_tensor=i1, input_shape=(IMAGE_SIZE[0], IMAGE_SIZE[1], 1), include_top=False, weights=None)\n",
    "\n",
    "    feature_img = base.get_layer(name='mixed10').output\n",
    "    feature_img = AveragePooling2D((2, 2))(feature_img)\n",
    "    feature_img = Flatten()(feature_img)\n",
    "    feature_gender = Dense(32, activation='relu')(i2)\n",
    "    feature = concatenate([feature_img, feature_gender], axis=1)\n",
    "\n",
    "    o = Dense(1000, activation='relu')(feature)\n",
    "    o = Dense(1000, activation='relu')(o)\n",
    "    o = Dense(1)(o)\n",
    "    model = Model(inputs=[i1, i2], outputs=o)\n",
    "    model.compile(loss='mean_absolute_error', optimizer=optimizer, metrics=['mae'])"
   ]
  },
  {
   "cell_type": "code",
   "execution_count": 16,
   "id": "cdb268ac",
   "metadata": {},
   "outputs": [],
   "source": [
    "model.load_weights(\"bone_age_weights.best.hdf5\")"
   ]
  },
  {
   "cell_type": "code",
   "execution_count": 17,
   "id": "bf460843",
   "metadata": {
    "execution": {
     "iopub.execute_input": "2022-04-10T19:53:03.710143Z",
     "iopub.status.busy": "2022-04-10T19:53:03.709464Z",
     "iopub.status.idle": "2022-04-10T19:53:05.667706Z",
     "shell.execute_reply": "2022-04-10T19:53:05.668227Z",
     "shell.execute_reply.started": "2022-04-10T19:49:26.522923Z"
    },
    "papermill": {
     "duration": 1.981459,
     "end_time": "2022-04-10T19:53:05.668389",
     "exception": false,
     "start_time": "2022-04-10T19:53:03.686930",
     "status": "completed"
    },
    "tags": []
   },
   "outputs": [],
   "source": [
    "train_dataset = get_training_dataset()\n",
    "valid_dataset = get_validation_dataset()"
   ]
  },
  {
   "cell_type": "code",
   "execution_count": 18,
   "id": "52e50287",
   "metadata": {
    "execution": {
     "iopub.execute_input": "2022-04-10T19:53:05.707462Z",
     "iopub.status.busy": "2022-04-10T19:53:05.706616Z",
     "iopub.status.idle": "2022-04-10T19:53:05.709501Z",
     "shell.execute_reply": "2022-04-10T19:53:05.708967Z",
     "shell.execute_reply.started": "2022-04-10T19:49:29.682510Z"
    },
    "papermill": {
     "duration": 0.024051,
     "end_time": "2022-04-10T19:53:05.709633",
     "exception": false,
     "start_time": "2022-04-10T19:53:05.685582",
     "status": "completed"
    },
    "tags": []
   },
   "outputs": [],
   "source": [
    "STEPS_PER_EPOCH = NUM_TRAINING_IMAGES // BATCH_SIZE\n",
    "VALID_STEPS = NUM_VALIDATION_IMAGES // BATCH_SIZE"
   ]
  },
  {
   "cell_type": "code",
   "execution_count": 19,
   "id": "184864b5",
   "metadata": {
    "execution": {
     "iopub.execute_input": "2022-04-10T19:53:05.751000Z",
     "iopub.status.busy": "2022-04-10T19:53:05.750227Z",
     "iopub.status.idle": "2022-04-10T23:21:33.471137Z",
     "shell.execute_reply": "2022-04-10T23:21:33.470510Z",
     "shell.execute_reply.started": "2022-04-10T19:49:34.380025Z"
    },
    "papermill": {
     "duration": 12507.74575,
     "end_time": "2022-04-10T23:21:33.471335",
     "exception": false,
     "start_time": "2022-04-10T19:53:05.725585",
     "status": "completed"
    },
    "tags": []
   },
   "outputs": [
    {
     "name": "stdout",
     "output_type": "stream",
     "text": [
      "Epoch 1/112\n",
      "630/630 [==============================] - ETA: 0s - loss: 8.7163 - mae: 8.7163\n",
      "Epoch 00001: val_loss improved from inf to 8.19504, saving model to bone_age_weights.best.hdf5\n",
      "630/630 [==============================] - 458s 664ms/step - loss: 8.7163 - mae: 8.7163 - val_loss: 8.1950 - val_mae: 8.1950 - lr: 0.0108\n",
      "Epoch 2/112\n",
      "630/630 [==============================] - ETA: 0s - loss: 9.5494 - mae: 9.5494\n",
      "Epoch 00002: val_loss improved from 8.19504 to 8.15583, saving model to bone_age_weights.best.hdf5\n",
      "630/630 [==============================] - 409s 649ms/step - loss: 9.5494 - mae: 9.5494 - val_loss: 8.1558 - val_mae: 8.1558 - lr: 0.0108\n",
      "Epoch 3/112\n",
      "630/630 [==============================] - ETA: 0s - loss: 10.0285 - mae: 10.0285\n",
      "Epoch 00003: val_loss did not improve from 8.15583\n",
      "630/630 [==============================] - 396s 628ms/step - loss: 10.0285 - mae: 10.0285 - val_loss: 8.6367 - val_mae: 8.6367 - lr: 0.0108\n",
      "Epoch 4/112\n",
      "630/630 [==============================] - ETA: 0s - loss: 9.8650 - mae: 9.8650\n",
      "Epoch 00004: val_loss did not improve from 8.15583\n",
      "630/630 [==============================] - 396s 629ms/step - loss: 9.8650 - mae: 9.8650 - val_loss: 9.3826 - val_mae: 9.3826 - lr: 0.0108\n",
      "Epoch 5/112\n",
      "630/630 [==============================] - ETA: 0s - loss: 9.7409 - mae: 9.7409\n",
      "Epoch 00005: val_loss did not improve from 8.15583\n",
      "630/630 [==============================] - 387s 614ms/step - loss: 9.7409 - mae: 9.7409 - val_loss: 11.4384 - val_mae: 11.4384 - lr: 0.0108\n",
      "Epoch 6/112\n",
      "630/630 [==============================] - ETA: 0s - loss: 9.9735 - mae: 9.9735\n",
      "Epoch 00006: val_loss did not improve from 8.15583\n",
      "630/630 [==============================] - 391s 621ms/step - loss: 9.9735 - mae: 9.9735 - val_loss: 10.5018 - val_mae: 10.5018 - lr: 0.0108\n",
      "Epoch 7/112\n",
      "630/630 [==============================] - ETA: 0s - loss: 9.8776 - mae: 9.8776\n",
      "Epoch 00007: ReduceLROnPlateau reducing learning rate to 0.008638201653957367.\n",
      "\n",
      "Epoch 00007: val_loss did not improve from 8.15583\n",
      "630/630 [==============================] - 399s 634ms/step - loss: 9.8776 - mae: 9.8776 - val_loss: 10.4362 - val_mae: 10.4362 - lr: 0.0108\n",
      "Epoch 8/112\n",
      "630/630 [==============================] - ETA: 0s - loss: 9.0841 - mae: 9.0841\n",
      "Epoch 00008: val_loss did not improve from 8.15583\n",
      "630/630 [==============================] - 383s 608ms/step - loss: 9.0841 - mae: 9.0841 - val_loss: 9.5721 - val_mae: 9.5721 - lr: 0.0086\n",
      "Epoch 9/112\n",
      "630/630 [==============================] - ETA: 0s - loss: 8.8862 - mae: 8.8862\n",
      "Epoch 00009: val_loss improved from 8.15583 to 7.63598, saving model to bone_age_weights.best.hdf5\n",
      "630/630 [==============================] - 392s 622ms/step - loss: 8.8862 - mae: 8.8862 - val_loss: 7.6360 - val_mae: 7.6360 - lr: 0.0086\n",
      "Epoch 10/112\n",
      "630/630 [==============================] - ETA: 0s - loss: 8.9351 - mae: 8.9351\n",
      "Epoch 00010: val_loss did not improve from 7.63598\n",
      "630/630 [==============================] - 384s 609ms/step - loss: 8.9351 - mae: 8.9351 - val_loss: 10.2711 - val_mae: 10.2711 - lr: 0.0086\n",
      "Epoch 11/112\n",
      "630/630 [==============================] - ETA: 0s - loss: 9.0192 - mae: 9.0192\n",
      "Epoch 00011: val_loss did not improve from 7.63598\n",
      "630/630 [==============================] - 384s 609ms/step - loss: 9.0192 - mae: 9.0192 - val_loss: 11.5188 - val_mae: 11.5188 - lr: 0.0086\n",
      "Epoch 12/112\n",
      "630/630 [==============================] - ETA: 0s - loss: 8.9865 - mae: 8.9865\n",
      "Epoch 00012: val_loss did not improve from 7.63598\n",
      "630/630 [==============================] - 398s 632ms/step - loss: 8.9865 - mae: 8.9865 - val_loss: 7.8491 - val_mae: 7.8491 - lr: 0.0086\n",
      "Epoch 13/112\n",
      "630/630 [==============================] - ETA: 0s - loss: 8.8569 - mae: 8.8569\n",
      "Epoch 00013: val_loss did not improve from 7.63598\n",
      "630/630 [==============================] - 412s 654ms/step - loss: 8.8569 - mae: 8.8569 - val_loss: 8.7012 - val_mae: 8.7012 - lr: 0.0086\n",
      "Epoch 14/112\n",
      "630/630 [==============================] - ETA: 0s - loss: 8.8321 - mae: 8.8321\n",
      "Epoch 00014: val_loss did not improve from 7.63598\n",
      "630/630 [==============================] - 410s 650ms/step - loss: 8.8321 - mae: 8.8321 - val_loss: 7.6842 - val_mae: 7.6842 - lr: 0.0086\n",
      "Epoch 15/112\n",
      "630/630 [==============================] - ETA: 0s - loss: 8.6839 - mae: 8.6839\n",
      "Epoch 00015: val_loss did not improve from 7.63598\n",
      "630/630 [==============================] - 417s 662ms/step - loss: 8.6839 - mae: 8.6839 - val_loss: 9.1402 - val_mae: 9.1402 - lr: 0.0086\n",
      "Epoch 16/112\n",
      "630/630 [==============================] - ETA: 0s - loss: 8.6775 - mae: 8.6775\n",
      "Epoch 00016: ReduceLROnPlateau reducing learning rate to 0.00691056102514267.\n",
      "\n",
      "Epoch 00016: val_loss did not improve from 7.63598\n",
      "630/630 [==============================] - 415s 659ms/step - loss: 8.6775 - mae: 8.6775 - val_loss: 8.7809 - val_mae: 8.7809 - lr: 0.0086\n",
      "Epoch 17/112\n",
      "630/630 [==============================] - ETA: 0s - loss: 8.6134 - mae: 8.6134\n",
      "Epoch 00017: val_loss did not improve from 7.63598\n",
      "630/630 [==============================] - 399s 633ms/step - loss: 8.6134 - mae: 8.6134 - val_loss: 8.1141 - val_mae: 8.1141 - lr: 0.0069\n",
      "Epoch 18/112\n",
      "630/630 [==============================] - ETA: 0s - loss: 8.5514 - mae: 8.5514\n",
      "Epoch 00018: val_loss did not improve from 7.63598\n",
      "630/630 [==============================] - 402s 638ms/step - loss: 8.5514 - mae: 8.5514 - val_loss: 9.1308 - val_mae: 9.1308 - lr: 0.0069\n",
      "Epoch 19/112\n",
      "630/630 [==============================] - ETA: 0s - loss: 8.6387 - mae: 8.6387\n",
      "Epoch 00019: val_loss did not improve from 7.63598\n",
      "630/630 [==============================] - 392s 622ms/step - loss: 8.6387 - mae: 8.6387 - val_loss: 7.9211 - val_mae: 7.9211 - lr: 0.0069\n",
      "Epoch 20/112\n",
      "630/630 [==============================] - ETA: 0s - loss: 8.4164 - mae: 8.4164\n",
      "Epoch 00020: val_loss did not improve from 7.63598\n",
      "630/630 [==============================] - 495s 786ms/step - loss: 8.4164 - mae: 8.4164 - val_loss: 9.8180 - val_mae: 9.8180 - lr: 0.0069\n",
      "Epoch 21/112\n",
      "630/630 [==============================] - ETA: 0s - loss: 8.4100 - mae: 8.4100\n",
      "Epoch 00021: val_loss did not improve from 7.63598\n",
      "630/630 [==============================] - 452s 718ms/step - loss: 8.4100 - mae: 8.4100 - val_loss: 8.2340 - val_mae: 8.2340 - lr: 0.0069\n",
      "Epoch 22/112\n",
      "630/630 [==============================] - ETA: 0s - loss: 8.3392 - mae: 8.3392\n",
      "Epoch 00022: val_loss improved from 7.63598 to 7.50063, saving model to bone_age_weights.best.hdf5\n",
      "630/630 [==============================] - 409s 650ms/step - loss: 8.3392 - mae: 8.3392 - val_loss: 7.5006 - val_mae: 7.5006 - lr: 0.0069\n",
      "Epoch 23/112\n",
      "630/630 [==============================] - ETA: 0s - loss: 8.0728 - mae: 8.0728\n",
      "Epoch 00023: val_loss did not improve from 7.50063\n",
      "630/630 [==============================] - 399s 633ms/step - loss: 8.0728 - mae: 8.0728 - val_loss: 10.0589 - val_mae: 10.0589 - lr: 0.0069\n",
      "Epoch 24/112\n",
      "630/630 [==============================] - ETA: 0s - loss: 8.2558 - mae: 8.2558\n",
      "Epoch 00024: val_loss improved from 7.50063 to 7.18645, saving model to bone_age_weights.best.hdf5\n",
      "630/630 [==============================] - 394s 626ms/step - loss: 8.2558 - mae: 8.2558 - val_loss: 7.1864 - val_mae: 7.1864 - lr: 0.0069\n",
      "Epoch 25/112\n",
      "630/630 [==============================] - ETA: 0s - loss: 8.3741 - mae: 8.3741\n",
      "Epoch 00025: val_loss did not improve from 7.18645\n",
      "630/630 [==============================] - 407s 645ms/step - loss: 8.3741 - mae: 8.3741 - val_loss: 9.4196 - val_mae: 9.4196 - lr: 0.0069\n",
      "Epoch 26/112\n",
      "630/630 [==============================] - ETA: 0s - loss: 8.2379 - mae: 8.2379\n",
      "Epoch 00026: val_loss did not improve from 7.18645\n",
      "630/630 [==============================] - 418s 664ms/step - loss: 8.2379 - mae: 8.2379 - val_loss: 9.0275 - val_mae: 9.0275 - lr: 0.0069\n",
      "Epoch 27/112\n",
      "630/630 [==============================] - ETA: 0s - loss: 8.0090 - mae: 8.0090\n",
      "Epoch 00027: val_loss did not improve from 7.18645\n",
      "630/630 [==============================] - 415s 659ms/step - loss: 8.0090 - mae: 8.0090 - val_loss: 7.7678 - val_mae: 7.7678 - lr: 0.0069\n",
      "Epoch 28/112\n",
      "630/630 [==============================] - ETA: 0s - loss: 8.1797 - mae: 8.1797\n",
      "Epoch 00028: val_loss did not improve from 7.18645\n",
      "630/630 [==============================] - 413s 655ms/step - loss: 8.1797 - mae: 8.1797 - val_loss: 7.9201 - val_mae: 7.9201 - lr: 0.0069\n",
      "Epoch 29/112\n",
      "630/630 [==============================] - ETA: 0s - loss: 8.1461 - mae: 8.1461\n",
      "Epoch 00029: ReduceLROnPlateau reducing learning rate to 0.005528448894619942.\n",
      "\n",
      "Epoch 00029: val_loss did not improve from 7.18645\n",
      "630/630 [==============================] - 393s 623ms/step - loss: 8.1461 - mae: 8.1461 - val_loss: 8.2085 - val_mae: 8.2085 - lr: 0.0069\n",
      "Epoch 30/112\n",
      "630/630 [==============================] - ETA: 0s - loss: 8.0894 - mae: 8.0894\n",
      "Epoch 00030: val_loss did not improve from 7.18645\n",
      "630/630 [==============================] - 390s 619ms/step - loss: 8.0894 - mae: 8.0894 - val_loss: 7.2670 - val_mae: 7.2670 - lr: 0.0055\n",
      "Epoch 31/112\n",
      "630/630 [==============================] - ETA: 0s - loss: 8.0065 - mae: 8.0065\n",
      "Epoch 00031: val_loss improved from 7.18645 to 7.02473, saving model to bone_age_weights.best.hdf5\n"
     ]
    },
    {
     "ename": "InternalError",
     "evalue": "Dst tensor is not initialized.",
     "output_type": "error",
     "traceback": [
      "\u001b[1;31m---------------------------------------------------------------------------\u001b[0m",
      "\u001b[1;31mInternalError\u001b[0m                             Traceback (most recent call last)",
      "\u001b[1;32m~\\AppData\\Local\\Temp/ipykernel_1824/973729341.py\u001b[0m in \u001b[0;36m<module>\u001b[1;34m\u001b[0m\n\u001b[1;32m----> 1\u001b[1;33m initalHistory = model.fit(train_dataset, \n\u001b[0m\u001b[0;32m      2\u001b[0m                     \u001b[0msteps_per_epoch\u001b[0m\u001b[1;33m=\u001b[0m\u001b[0mSTEPS_PER_EPOCH\u001b[0m\u001b[1;33m,\u001b[0m\u001b[1;33m\u001b[0m\u001b[1;33m\u001b[0m\u001b[0m\n\u001b[0;32m      3\u001b[0m                     \u001b[0mepochs\u001b[0m\u001b[1;33m=\u001b[0m\u001b[1;36m112\u001b[0m\u001b[1;33m,\u001b[0m\u001b[1;33m\u001b[0m\u001b[1;33m\u001b[0m\u001b[0m\n\u001b[0;32m      4\u001b[0m                     \u001b[0mvalidation_data\u001b[0m\u001b[1;33m=\u001b[0m\u001b[0mvalid_dataset\u001b[0m\u001b[1;33m,\u001b[0m\u001b[1;33m\u001b[0m\u001b[1;33m\u001b[0m\u001b[0m\n\u001b[0;32m      5\u001b[0m                     \u001b[0mvalidation_steps\u001b[0m\u001b[1;33m=\u001b[0m\u001b[0mVALID_STEPS\u001b[0m\u001b[1;33m,\u001b[0m\u001b[1;33m\u001b[0m\u001b[1;33m\u001b[0m\u001b[0m\n",
      "\u001b[1;32me:\\College and Courses\\College\\GRAD PROJECT\\newEnv\\lib\\site-packages\\keras\\utils\\traceback_utils.py\u001b[0m in \u001b[0;36merror_handler\u001b[1;34m(*args, **kwargs)\u001b[0m\n\u001b[0;32m     65\u001b[0m     \u001b[1;32mexcept\u001b[0m \u001b[0mException\u001b[0m \u001b[1;32mas\u001b[0m \u001b[0me\u001b[0m\u001b[1;33m:\u001b[0m  \u001b[1;31m# pylint: disable=broad-except\u001b[0m\u001b[1;33m\u001b[0m\u001b[1;33m\u001b[0m\u001b[0m\n\u001b[0;32m     66\u001b[0m       \u001b[0mfiltered_tb\u001b[0m \u001b[1;33m=\u001b[0m \u001b[0m_process_traceback_frames\u001b[0m\u001b[1;33m(\u001b[0m\u001b[0me\u001b[0m\u001b[1;33m.\u001b[0m\u001b[0m__traceback__\u001b[0m\u001b[1;33m)\u001b[0m\u001b[1;33m\u001b[0m\u001b[1;33m\u001b[0m\u001b[0m\n\u001b[1;32m---> 67\u001b[1;33m       \u001b[1;32mraise\u001b[0m \u001b[0me\u001b[0m\u001b[1;33m.\u001b[0m\u001b[0mwith_traceback\u001b[0m\u001b[1;33m(\u001b[0m\u001b[0mfiltered_tb\u001b[0m\u001b[1;33m)\u001b[0m \u001b[1;32mfrom\u001b[0m \u001b[1;32mNone\u001b[0m\u001b[1;33m\u001b[0m\u001b[1;33m\u001b[0m\u001b[0m\n\u001b[0m\u001b[0;32m     68\u001b[0m     \u001b[1;32mfinally\u001b[0m\u001b[1;33m:\u001b[0m\u001b[1;33m\u001b[0m\u001b[1;33m\u001b[0m\u001b[0m\n\u001b[0;32m     69\u001b[0m       \u001b[1;32mdel\u001b[0m \u001b[0mfiltered_tb\u001b[0m\u001b[1;33m\u001b[0m\u001b[1;33m\u001b[0m\u001b[0m\n",
      "\u001b[1;32me:\\College and Courses\\College\\GRAD PROJECT\\newEnv\\lib\\site-packages\\keras\\backend.py\u001b[0m in \u001b[0;36m<listcomp>\u001b[1;34m(.0)\u001b[0m\n\u001b[0;32m   3868\u001b[0m   \"\"\"\n\u001b[0;32m   3869\u001b[0m   \u001b[1;32mif\u001b[0m \u001b[0mtf\u001b[0m\u001b[1;33m.\u001b[0m\u001b[0mexecuting_eagerly\u001b[0m\u001b[1;33m(\u001b[0m\u001b[1;33m)\u001b[0m\u001b[1;33m:\u001b[0m\u001b[1;33m\u001b[0m\u001b[1;33m\u001b[0m\u001b[0m\n\u001b[1;32m-> 3870\u001b[1;33m     \u001b[1;32mreturn\u001b[0m \u001b[1;33m[\u001b[0m\u001b[0mx\u001b[0m\u001b[1;33m.\u001b[0m\u001b[0mnumpy\u001b[0m\u001b[1;33m(\u001b[0m\u001b[1;33m)\u001b[0m \u001b[1;32mfor\u001b[0m \u001b[0mx\u001b[0m \u001b[1;32min\u001b[0m \u001b[0mtensors\u001b[0m\u001b[1;33m]\u001b[0m\u001b[1;33m\u001b[0m\u001b[1;33m\u001b[0m\u001b[0m\n\u001b[0m\u001b[0;32m   3871\u001b[0m   \u001b[1;32melif\u001b[0m \u001b[0mtf\u001b[0m\u001b[1;33m.\u001b[0m\u001b[0minside_function\u001b[0m\u001b[1;33m(\u001b[0m\u001b[1;33m)\u001b[0m\u001b[1;33m:\u001b[0m  \u001b[1;31m# pylint: disable=protected-access\u001b[0m\u001b[1;33m\u001b[0m\u001b[1;33m\u001b[0m\u001b[0m\n\u001b[0;32m   3872\u001b[0m     \u001b[1;32mraise\u001b[0m \u001b[0mRuntimeError\u001b[0m\u001b[1;33m(\u001b[0m\u001b[1;34m'Cannot get value inside Tensorflow graph function.'\u001b[0m\u001b[1;33m)\u001b[0m\u001b[1;33m\u001b[0m\u001b[1;33m\u001b[0m\u001b[0m\n",
      "\u001b[1;31mInternalError\u001b[0m: Dst tensor is not initialized."
     ]
    }
   ],
   "source": [
    "initalHistory = model.fit(train_dataset, \n",
    "                    steps_per_epoch=STEPS_PER_EPOCH, \n",
    "                    epochs=112,\n",
    "                    validation_data=valid_dataset,\n",
    "                    validation_steps=VALID_STEPS,\n",
    "                    callbacks = callBacks)"
   ]
  }
 ],
 "metadata": {
  "interpreter": {
   "hash": "78bcbf71713dd947ce2131f7f6689fb7d7a7279f673cc1a06b2b5cdb722ee962"
  },
  "kernelspec": {
   "display_name": "Python 3.9.5 ('newEnv': venv)",
   "language": "python",
   "name": "python3"
  },
  "language_info": {
   "codemirror_mode": {
    "name": "ipython",
    "version": 3
   },
   "file_extension": ".py",
   "mimetype": "text/x-python",
   "name": "python",
   "nbconvert_exporter": "python",
   "pygments_lexer": "ipython3",
   "version": "3.9.5"
  },
  "papermill": {
   "default_parameters": {},
   "duration": 12552.345905,
   "end_time": "2022-04-10T23:21:42.488841",
   "environment_variables": {},
   "exception": null,
   "input_path": "__notebook__.ipynb",
   "output_path": "__notebook__.ipynb",
   "parameters": {},
   "start_time": "2022-04-10T19:52:30.142936",
   "version": "2.3.3"
  }
 },
 "nbformat": 4,
 "nbformat_minor": 5
}

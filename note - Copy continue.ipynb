{
 "cells": [
  {
   "cell_type": "code",
   "execution_count": 1,
   "id": "ccf65398",
   "metadata": {
    "execution": {
     "iopub.execute_input": "2022-04-10T19:52:37.606014Z",
     "iopub.status.busy": "2022-04-10T19:52:37.604415Z",
     "iopub.status.idle": "2022-04-10T19:52:43.105464Z",
     "shell.execute_reply": "2022-04-10T19:52:43.106001Z",
     "shell.execute_reply.started": "2022-04-10T19:38:28.428417Z"
    },
    "papermill": {
     "duration": 5.525787,
     "end_time": "2022-04-10T19:52:43.106302",
     "exception": false,
     "start_time": "2022-04-10T19:52:37.580515",
     "status": "completed"
    },
    "tags": []
   },
   "outputs": [],
   "source": [
    "import re, math\n",
    "import numpy as np\n",
    "from functools import partial\n",
    "from sklearn.model_selection import train_test_split\n",
    "# from kaggle_datasets import KaggleDatasets\n",
    "import tensorflow as tf\n",
    "from tensorflow.keras import Input\n",
    "from tensorflow.keras import backend as K\n",
    "from tensorflow.keras.callbacks import ModelCheckpoint, EarlyStopping, ReduceLROnPlateau\n",
    "from tensorflow.keras.applications.inception_v3 import InceptionV3\n",
    "from tensorflow.keras.layers import Dense, Flatten, AveragePooling2D, concatenate\n",
    "from tensorflow.keras.optimizers import Adam\n",
    "from tensorflow.keras.models import Model"
   ]
  },
  {
   "cell_type": "code",
   "execution_count": 2,
   "id": "79b39bb2",
   "metadata": {
    "execution": {
     "iopub.execute_input": "2022-04-10T19:52:43.141895Z",
     "iopub.status.busy": "2022-04-10T19:52:43.141064Z",
     "iopub.status.idle": "2022-04-10T19:52:49.378671Z",
     "shell.execute_reply": "2022-04-10T19:52:49.378184Z",
     "shell.execute_reply.started": "2022-04-10T19:38:33.685996Z"
    },
    "papermill": {
     "duration": 6.256491,
     "end_time": "2022-04-10T19:52:49.378813",
     "exception": false,
     "start_time": "2022-04-10T19:52:43.122322",
     "status": "completed"
    },
    "tags": []
   },
   "outputs": [
    {
     "name": "stdout",
     "output_type": "stream",
     "text": [
      "Number of replicas: 1\n"
     ]
    }
   ],
   "source": [
    "try:\n",
    "    tpu = tf.distribute.cluster_resolver.TPUClusterResolver()\n",
    "    print('Device:', tpu.master())\n",
    "    tf.config.experimental_connect_to_cluster(tpu)\n",
    "    tf.tpu.experimental.initialize_tpu_system(tpu)\n",
    "    strategy = tf.distribute.experimental.TPUStrategy(tpu)\n",
    "except:\n",
    "    strategy = tf.distribute.get_strategy()\n",
    "print('Number of replicas:', strategy.num_replicas_in_sync)"
   ]
  },
  {
   "cell_type": "code",
   "execution_count": 3,
   "id": "b0a98291",
   "metadata": {
    "execution": {
     "iopub.execute_input": "2022-04-10T19:52:49.420309Z",
     "iopub.status.busy": "2022-04-10T19:52:49.419745Z",
     "iopub.status.idle": "2022-04-10T19:52:49.939844Z",
     "shell.execute_reply": "2022-04-10T19:52:49.939264Z",
     "shell.execute_reply.started": "2022-04-10T19:38:39.819090Z"
    },
    "papermill": {
     "duration": 0.54344,
     "end_time": "2022-04-10T19:52:49.940000",
     "exception": false,
     "start_time": "2022-04-10T19:52:49.396560",
     "status": "completed"
    },
    "tags": []
   },
   "outputs": [],
   "source": [
    "AUTOTUNE = tf.data.experimental.AUTOTUNE\n",
    "BATCH_SIZE = 16 * strategy.num_replicas_in_sync\n",
    "IMAGE_SIZE = [512, 512]\n",
    "# GCS_PATH = KaggleDatasets().get_gcs_path()\n",
    "HEIGHT = 512\n",
    "WIDTH = 512\n",
    "CHANNELS = 1"
   ]
  },
  {
   "cell_type": "code",
   "execution_count": 4,
   "id": "2f4fb11c",
   "metadata": {
    "execution": {
     "iopub.execute_input": "2022-04-10T19:52:49.977290Z",
     "iopub.status.busy": "2022-04-10T19:52:49.976696Z",
     "iopub.status.idle": "2022-04-10T19:52:49.979593Z",
     "shell.execute_reply": "2022-04-10T19:52:49.979042Z",
     "shell.execute_reply.started": "2022-04-10T19:38:40.329131Z"
    },
    "papermill": {
     "duration": 0.023532,
     "end_time": "2022-04-10T19:52:49.979721",
     "exception": false,
     "start_time": "2022-04-10T19:52:49.956189",
     "status": "completed"
    },
    "tags": []
   },
   "outputs": [],
   "source": [
    "def decode_image(image):\n",
    "    image = tf.image.decode_jpeg(image, channels=3)\n",
    "    image = tf.image.rgb_to_grayscale(image)\n",
    "    image = tf.cast(image, tf.float32) / 255.0\n",
    "    image = tf.image.resize(image, IMAGE_SIZE)\n",
    "    return image"
   ]
  },
  {
   "cell_type": "code",
   "execution_count": 5,
   "id": "90c36a76",
   "metadata": {
    "execution": {
     "iopub.execute_input": "2022-04-10T19:52:50.019156Z",
     "iopub.status.busy": "2022-04-10T19:52:50.014234Z",
     "iopub.status.idle": "2022-04-10T19:52:50.021327Z",
     "shell.execute_reply": "2022-04-10T19:52:50.020762Z",
     "shell.execute_reply.started": "2022-04-10T19:38:40.335269Z"
    },
    "papermill": {
     "duration": 0.025848,
     "end_time": "2022-04-10T19:52:50.021466",
     "exception": false,
     "start_time": "2022-04-10T19:52:49.995618",
     "status": "completed"
    },
    "tags": []
   },
   "outputs": [],
   "source": [
    "def read_tfrecord(example):\n",
    "    tfrecord_format = {\n",
    "        'image': tf.io.FixedLenFeature([], tf.string),\n",
    "        'image_id': tf.io.FixedLenFeature([], tf.string),\n",
    "        'boneage': tf.io.FixedLenFeature([], tf.int64),\n",
    "        'male': tf.io.FixedLenFeature([], tf.int64)\n",
    "    }\n",
    "    example = tf.io.parse_single_example(example, tfrecord_format)\n",
    "    image = decode_image(example['image'])\n",
    "    boneAge = tf.cast(example['boneage'], tf.int32)\n",
    "    male = tf.cast(example['male'], tf.bool)\n",
    "    inputs = {}\n",
    "    inputs['image'] = image\n",
    "    inputs['gender'] = male\n",
    "    return inputs, boneAge"
   ]
  },
  {
   "cell_type": "code",
   "execution_count": 6,
   "id": "8f47ced4",
   "metadata": {
    "execution": {
     "iopub.execute_input": "2022-04-10T19:52:50.056587Z",
     "iopub.status.busy": "2022-04-10T19:52:50.056031Z",
     "iopub.status.idle": "2022-04-10T19:52:50.060245Z",
     "shell.execute_reply": "2022-04-10T19:52:50.060687Z",
     "shell.execute_reply.started": "2022-04-10T19:38:40.345223Z"
    },
    "papermill": {
     "duration": 0.023319,
     "end_time": "2022-04-10T19:52:50.060828",
     "exception": false,
     "start_time": "2022-04-10T19:52:50.037509",
     "status": "completed"
    },
    "tags": []
   },
   "outputs": [],
   "source": [
    "def load_dataset(filenames):\n",
    "    ignore_order = tf.data.Options()\n",
    "    ignore_order.experimental_deterministic = False # disable order, increase speed\n",
    "    dataset = tf.data.TFRecordDataset(filenames, num_parallel_reads=AUTOTUNE) # automatically interleaves reads from multiple files\n",
    "    dataset = dataset.with_options(ignore_order) # uses data as soon as it streams in, rather than in its original order\n",
    "    dataset = dataset.map(partial(read_tfrecord), num_parallel_calls=AUTOTUNE)\n",
    "    return dataset"
   ]
  },
  {
   "cell_type": "code",
   "execution_count": 7,
   "id": "74b82e87",
   "metadata": {
    "execution": {
     "iopub.execute_input": "2022-04-10T19:52:50.096130Z",
     "iopub.status.busy": "2022-04-10T19:52:50.095514Z",
     "iopub.status.idle": "2022-04-10T19:52:50.190549Z",
     "shell.execute_reply": "2022-04-10T19:52:50.191001Z",
     "shell.execute_reply.started": "2022-04-10T19:38:40.353761Z"
    },
    "papermill": {
     "duration": 0.114837,
     "end_time": "2022-04-10T19:52:50.191167",
     "exception": false,
     "start_time": "2022-04-10T19:52:50.076330",
     "status": "completed"
    },
    "tags": []
   },
   "outputs": [],
   "source": [
    "TRAINING_FILENAMES, VALID_FILENAMES = train_test_split(\n",
    "    # tf.io.gfile.glob(GCS_PATH + '/bone_age_tfrecords/*.tfrec'),\n",
    "    tf.io.gfile.glob('../bone-age-tfrecords/*.tfrec'),\n",
    "    test_size=0.2, random_state=2018\n",
    ")"
   ]
  },
  {
   "cell_type": "code",
   "execution_count": 8,
   "id": "f004b021",
   "metadata": {
    "execution": {
     "iopub.execute_input": "2022-04-10T19:52:50.226775Z",
     "iopub.status.busy": "2022-04-10T19:52:50.226196Z",
     "iopub.status.idle": "2022-04-10T19:52:50.244194Z",
     "shell.execute_reply": "2022-04-10T19:52:50.243692Z",
     "shell.execute_reply.started": "2022-04-10T19:38:40.456897Z"
    },
    "papermill": {
     "duration": 0.037242,
     "end_time": "2022-04-10T19:52:50.244331",
     "exception": false,
     "start_time": "2022-04-10T19:52:50.207089",
     "status": "completed"
    },
    "tags": []
   },
   "outputs": [],
   "source": [
    "def custom_data_augment(inputs, boneAge):\n",
    "    image = inputs['image']\n",
    "    p_rotation = tf.random.uniform([], 0, 1.0, dtype=tf.float32)\n",
    "    p_spatial = tf.random.uniform([], 0, 1.0, dtype=tf.float32)\n",
    "    p_rotate = tf.random.uniform([], 0, 1.0, dtype=tf.float32)\n",
    "    # p_pixel_1 = tf.random.uniform([], 0, 1.0, dtype=tf.float32)\n",
    "    p_pixel_2 = tf.random.uniform([], 0, 1.0, dtype=tf.float32)\n",
    "    p_pixel_3 = tf.random.uniform([], 0, 1.0, dtype=tf.float32)\n",
    "    p_shear = tf.random.uniform([], 0, 1.0, dtype=tf.float32)\n",
    "    p_crop = tf.random.uniform([], 0, 1.0, dtype=tf.float32)\n",
    "    \n",
    "    # Shear\n",
    "    if p_shear > .2:\n",
    "        if p_shear > .6:\n",
    "            image = transform_shear(image, HEIGHT, shear=20.)\n",
    "        else:\n",
    "            image = transform_shear(image, HEIGHT, shear=-20.)\n",
    "            \n",
    "    # Rotation\n",
    "    if p_rotation > .2:\n",
    "        if p_rotation > .6:\n",
    "            image = transform_rotation(image, HEIGHT, rotation=45.)\n",
    "        else:\n",
    "            image = transform_rotation(image, HEIGHT, rotation=-45.)\n",
    "            \n",
    "    # Flips\n",
    "    image = tf.image.random_flip_left_right(image)\n",
    "    image = tf.image.random_flip_up_down(image)\n",
    "    if p_spatial > .75:\n",
    "        image = tf.image.transpose(image)\n",
    "        \n",
    "    # Rotates\n",
    "    if p_rotate > .75:\n",
    "        image = tf.image.rot90(image, k=3) # rotate 270º\n",
    "    elif p_rotate > .5:\n",
    "        image = tf.image.rot90(image, k=2) # rotate 180º\n",
    "    elif p_rotate > .25:\n",
    "        image = tf.image.rot90(image, k=1) # rotate 90º\n",
    "        \n",
    "    # Pixel-level transforms\n",
    "    # if p_pixel_1 >= .4:\n",
    "    #     image = tf.image.random_saturation(image, lower=.7, upper=1.3)\n",
    "    if p_pixel_2 >= .4:\n",
    "        image = tf.image.random_contrast(image, lower=.8, upper=1.2)\n",
    "    if p_pixel_3 >= .4:\n",
    "        image = tf.image.random_brightness(image, max_delta=.1)\n",
    "        \n",
    "    # Crops\n",
    "    if p_crop > .7:\n",
    "        if p_crop > .9:\n",
    "            image = tf.image.central_crop(image, central_fraction=.6)\n",
    "        elif p_crop > .8:\n",
    "            image = tf.image.central_crop(image, central_fraction=.7)\n",
    "        else:\n",
    "            image = tf.image.central_crop(image, central_fraction=.8)\n",
    "    elif p_crop > .4:\n",
    "        crop_size = tf.random.uniform([], int(HEIGHT*.6), HEIGHT, dtype=tf.int32)\n",
    "        image = tf.image.random_crop(image, size=[crop_size, crop_size, CHANNELS])\n",
    "            \n",
    "    image = tf.image.resize(image, size=[HEIGHT, WIDTH])\n",
    "\n",
    "    inputs['image'] = image\n",
    "    return inputs, boneAge"
   ]
  },
  {
   "cell_type": "code",
   "execution_count": 9,
   "id": "c631d672",
   "metadata": {
    "execution": {
     "iopub.execute_input": "2022-04-10T19:52:50.282425Z",
     "iopub.status.busy": "2022-04-10T19:52:50.281779Z",
     "iopub.status.idle": "2022-04-10T19:52:50.301863Z",
     "shell.execute_reply": "2022-04-10T19:52:50.302481Z",
     "shell.execute_reply.started": "2022-04-10T19:38:40.476951Z"
    },
    "papermill": {
     "duration": 0.041691,
     "end_time": "2022-04-10T19:52:50.302655",
     "exception": false,
     "start_time": "2022-04-10T19:52:50.260964",
     "status": "completed"
    },
    "tags": []
   },
   "outputs": [],
   "source": [
    "# data augmentation @cdeotte kernel: https://www.kaggle.com/cdeotte/rotation-augmentation-gpu-tpu-0-96\n",
    "def transform_rotation(image, height, rotation):\n",
    "    # input image - is one image of size [dim,dim,3] not a batch of [b,dim,dim,3]\n",
    "    # output - image randomly rotated\n",
    "    DIM = height\n",
    "    XDIM = DIM%2 #fix for size 331\n",
    "    \n",
    "    rotation = rotation * tf.random.uniform([1],dtype='float32')\n",
    "    # CONVERT DEGREES TO RADIANS\n",
    "    rotation = math.pi * rotation / 180.\n",
    "    \n",
    "    # ROTATION MATRIX\n",
    "    c1 = tf.math.cos(rotation)\n",
    "    s1 = tf.math.sin(rotation)\n",
    "    one = tf.constant([1],dtype='float32')\n",
    "    zero = tf.constant([0],dtype='float32')\n",
    "    rotation_matrix = tf.reshape(tf.concat([c1,s1,zero, -s1,c1,zero, zero,zero,one],axis=0),[3,3])\n",
    "\n",
    "    # LIST DESTINATION PIXEL INDICES\n",
    "    x = tf.repeat( tf.range(DIM//2,-DIM//2,-1), DIM )\n",
    "    y = tf.tile( tf.range(-DIM//2,DIM//2),[DIM] )\n",
    "    z = tf.ones([DIM*DIM],dtype='int32')\n",
    "    idx = tf.stack( [x,y,z] )\n",
    "    \n",
    "    # ROTATE DESTINATION PIXELS ONTO ORIGIN PIXELS\n",
    "    idx2 = K.dot(rotation_matrix,tf.cast(idx,dtype='float32'))\n",
    "    idx2 = K.cast(idx2,dtype='int32')\n",
    "    idx2 = K.clip(idx2,-DIM//2+XDIM+1,DIM//2)\n",
    "    \n",
    "    # FIND ORIGIN PIXEL VALUES \n",
    "    idx3 = tf.stack( [DIM//2-idx2[0,], DIM//2-1+idx2[1,]] )\n",
    "    d = tf.gather_nd(image, tf.transpose(idx3))\n",
    "        \n",
    "    return tf.reshape(d,[DIM,DIM,1])\n",
    "\n",
    "def transform_shear(image, height, shear):\n",
    "    # input image - is one image of size [dim,dim,3] not a batch of [b,dim,dim,3]\n",
    "    # output - image randomly sheared\n",
    "    DIM = height\n",
    "    XDIM = DIM%2 #fix for size 331\n",
    "    \n",
    "    shear = shear * tf.random.uniform([1],dtype='float32')\n",
    "    shear = math.pi * shear / 180.\n",
    "        \n",
    "    # SHEAR MATRIX\n",
    "    one = tf.constant([1],dtype='float32')\n",
    "    zero = tf.constant([0],dtype='float32')\n",
    "    c2 = tf.math.cos(shear)\n",
    "    s2 = tf.math.sin(shear)\n",
    "    shear_matrix = tf.reshape(tf.concat([one,s2,zero, zero,c2,zero, zero,zero,one],axis=0),[3,3])    \n",
    "\n",
    "    # LIST DESTINATION PIXEL INDICES\n",
    "    x = tf.repeat( tf.range(DIM//2,-DIM//2,-1), DIM )\n",
    "    y = tf.tile( tf.range(-DIM//2,DIM//2),[DIM] )\n",
    "    z = tf.ones([DIM*DIM],dtype='int32')\n",
    "    idx = tf.stack( [x,y,z] )\n",
    "    \n",
    "    # ROTATE DESTINATION PIXELS ONTO ORIGIN PIXELS\n",
    "    idx2 = K.dot(shear_matrix,tf.cast(idx,dtype='float32'))\n",
    "    idx2 = K.cast(idx2,dtype='int32')\n",
    "    idx2 = K.clip(idx2,-DIM//2+XDIM+1,DIM//2)\n",
    "    \n",
    "    # FIND ORIGIN PIXEL VALUES \n",
    "    idx3 = tf.stack( [DIM//2-idx2[0,], DIM//2-1+idx2[1,]] )\n",
    "    d = tf.gather_nd(image, tf.transpose(idx3))\n",
    "        \n",
    "    return tf.reshape(d,[DIM,DIM,1])"
   ]
  },
  {
   "cell_type": "code",
   "execution_count": 11,
   "id": "1850b105",
   "metadata": {
    "execution": {
     "iopub.execute_input": "2022-04-10T19:52:50.352714Z",
     "iopub.status.busy": "2022-04-10T19:52:50.351786Z",
     "iopub.status.idle": "2022-04-10T19:52:50.355739Z",
     "shell.execute_reply": "2022-04-10T19:52:50.356342Z",
     "shell.execute_reply.started": "2022-04-10T19:38:40.500638Z"
    },
    "papermill": {
     "duration": 0.034942,
     "end_time": "2022-04-10T19:52:50.356507",
     "exception": false,
     "start_time": "2022-04-10T19:52:50.321565",
     "status": "completed"
    },
    "tags": []
   },
   "outputs": [],
   "source": [
    "def get_training_dataset():\n",
    "    dataset = load_dataset(TRAINING_FILENAMES)  \n",
    "    dataset = dataset.map(custom_data_augment, num_parallel_calls=AUTOTUNE)  \n",
    "    dataset = dataset.repeat()\n",
    "    dataset = dataset.shuffle(1024)\n",
    "    dataset = dataset.batch(BATCH_SIZE)\n",
    "    dataset = dataset.prefetch(AUTOTUNE)\n",
    "    return dataset"
   ]
  },
  {
   "cell_type": "code",
   "execution_count": 12,
   "id": "6a990c38",
   "metadata": {
    "execution": {
     "iopub.execute_input": "2022-04-10T19:52:50.401347Z",
     "iopub.status.busy": "2022-04-10T19:52:50.399000Z",
     "iopub.status.idle": "2022-04-10T19:52:50.403466Z",
     "shell.execute_reply": "2022-04-10T19:52:50.404084Z",
     "shell.execute_reply.started": "2022-04-10T19:38:40.510367Z"
    },
    "papermill": {
     "duration": 0.028805,
     "end_time": "2022-04-10T19:52:50.404236",
     "exception": false,
     "start_time": "2022-04-10T19:52:50.375431",
     "status": "completed"
    },
    "tags": []
   },
   "outputs": [],
   "source": [
    "def get_validation_dataset():\n",
    "    dataset = load_dataset(VALID_FILENAMES) \n",
    "    dataset = dataset.batch(BATCH_SIZE)\n",
    "    dataset = dataset.cache()\n",
    "    dataset = dataset.prefetch(AUTOTUNE)\n",
    "    return dataset"
   ]
  },
  {
   "cell_type": "code",
   "execution_count": 13,
   "id": "f5331569",
   "metadata": {
    "execution": {
     "iopub.execute_input": "2022-04-10T19:52:50.442253Z",
     "iopub.status.busy": "2022-04-10T19:52:50.441652Z",
     "iopub.status.idle": "2022-04-10T19:52:50.446098Z",
     "shell.execute_reply": "2022-04-10T19:52:50.446622Z",
     "shell.execute_reply.started": "2022-04-10T19:38:40.518842Z"
    },
    "papermill": {
     "duration": 0.025189,
     "end_time": "2022-04-10T19:52:50.446775",
     "exception": false,
     "start_time": "2022-04-10T19:52:50.421586",
     "status": "completed"
    },
    "tags": []
   },
   "outputs": [],
   "source": [
    "def count_data_items(filenames):\n",
    "    n = [int(re.compile(r\"-([0-9]*)\\.\").search(filename).group(1)) for filename in filenames]\n",
    "    return np.sum(n)"
   ]
  },
  {
   "cell_type": "code",
   "execution_count": 14,
   "id": "c95ff237",
   "metadata": {
    "execution": {
     "iopub.execute_input": "2022-04-10T19:52:50.489102Z",
     "iopub.status.busy": "2022-04-10T19:52:50.488134Z",
     "iopub.status.idle": "2022-04-10T19:52:50.494803Z",
     "shell.execute_reply": "2022-04-10T19:52:50.496020Z",
     "shell.execute_reply.started": "2022-04-10T19:38:40.530532Z"
    },
    "papermill": {
     "duration": 0.028672,
     "end_time": "2022-04-10T19:52:50.496321",
     "exception": false,
     "start_time": "2022-04-10T19:52:50.467649",
     "status": "completed"
    },
    "tags": []
   },
   "outputs": [
    {
     "name": "stdout",
     "output_type": "stream",
     "text": [
      "Dataset: 10088 training images, 2523 validation images\n"
     ]
    }
   ],
   "source": [
    "NUM_TRAINING_IMAGES = count_data_items(TRAINING_FILENAMES)\n",
    "NUM_VALIDATION_IMAGES = count_data_items(VALID_FILENAMES)\n",
    "\n",
    "print('Dataset: {} training images, {} validation images'.format(\n",
    "    NUM_TRAINING_IMAGES, NUM_VALIDATION_IMAGES))"
   ]
  },
  {
   "cell_type": "code",
   "execution_count": 15,
   "id": "2a5ce9c6",
   "metadata": {
    "execution": {
     "iopub.execute_input": "2022-04-10T19:52:50.541580Z",
     "iopub.status.busy": "2022-04-10T19:52:50.540945Z",
     "iopub.status.idle": "2022-04-10T19:52:50.547705Z",
     "shell.execute_reply": "2022-04-10T19:52:50.548296Z",
     "shell.execute_reply.started": "2022-04-10T19:49:03.261704Z"
    },
    "papermill": {
     "duration": 0.031482,
     "end_time": "2022-04-10T19:52:50.548598",
     "exception": false,
     "start_time": "2022-04-10T19:52:50.517116",
     "status": "completed"
    },
    "tags": []
   },
   "outputs": [],
   "source": [
    "bestLr = 2.4314e-04\n",
    "weight_path = \"{}_weights.best.hdf5\".format('bone_age')\n",
    "\n",
    "checkpoint = ModelCheckpoint(weight_path, monitor='val_loss', verbose=1,\n",
    "                            save_best_only=True, mode='min', save_weights_only=True)\n",
    "\n",
    "early = EarlyStopping(monitor=\"val_loss\", mode=\"min\",\n",
    "                      patience=20)\n",
    "\n",
    "reduceLROnPlat = ReduceLROnPlateau(monitor='val_loss', factor=0.8, patience=5, verbose=1,\n",
    "                                   save_best_only=True, mode='auto', min_delta=0.0001, cooldown=5)\n",
    "optimizer = Adam(learning_rate = bestLr, beta_1 = 0.9, beta_2 = 0.999, epsilon = 0.1)\n",
    "callBacks = [early, reduceLROnPlat, checkpoint]"
   ]
  },
  {
   "cell_type": "code",
   "execution_count": 16,
   "id": "18171c53",
   "metadata": {
    "execution": {
     "iopub.execute_input": "2022-04-10T19:52:50.595607Z",
     "iopub.status.busy": "2022-04-10T19:52:50.589415Z",
     "iopub.status.idle": "2022-04-10T19:53:03.670097Z",
     "shell.execute_reply": "2022-04-10T19:53:03.670560Z",
     "shell.execute_reply.started": "2022-04-10T19:49:06.282767Z"
    },
    "papermill": {
     "duration": 13.102513,
     "end_time": "2022-04-10T19:53:03.670745",
     "exception": false,
     "start_time": "2022-04-10T19:52:50.568232",
     "status": "completed"
    },
    "tags": []
   },
   "outputs": [],
   "source": [
    "with strategy.scope():       \n",
    "    i1 = Input(shape=(512, 512, 1), name='image')\n",
    "    i2 = Input(shape=(1), name='gender')\n",
    "    base = InceptionV3(input_tensor=i1, input_shape=(512, 512, 1), include_top=False, weights=None)\n",
    "\n",
    "    feature_img = base.get_layer(name='mixed10').output\n",
    "    feature_img = AveragePooling2D((2, 2))(feature_img)\n",
    "    feature_img = Flatten()(feature_img)\n",
    "    feature_gender = Dense(32, activation='relu')(i2)\n",
    "    feature = concatenate([feature_img, feature_gender], axis=1)\n",
    "\n",
    "    o = Dense(1000, activation='relu')(feature)\n",
    "    o = Dense(1000, activation='relu')(o)\n",
    "    o = Dense(1)(o)\n",
    "    model = Model(inputs=[i1, i2], outputs=o)\n",
    "    model.compile(loss='mean_absolute_error', optimizer=optimizer, metrics=['mae'])"
   ]
  },
  {
   "cell_type": "code",
   "execution_count": 17,
   "id": "4b19b464",
   "metadata": {},
   "outputs": [],
   "source": [
    "model.load_weights(\"bone_age_weights.best.hdf5\")"
   ]
  },
  {
   "cell_type": "code",
   "execution_count": 18,
   "id": "bf460843",
   "metadata": {
    "execution": {
     "iopub.execute_input": "2022-04-10T19:53:03.710143Z",
     "iopub.status.busy": "2022-04-10T19:53:03.709464Z",
     "iopub.status.idle": "2022-04-10T19:53:05.667706Z",
     "shell.execute_reply": "2022-04-10T19:53:05.668227Z",
     "shell.execute_reply.started": "2022-04-10T19:49:26.522923Z"
    },
    "papermill": {
     "duration": 1.981459,
     "end_time": "2022-04-10T19:53:05.668389",
     "exception": false,
     "start_time": "2022-04-10T19:53:03.686930",
     "status": "completed"
    },
    "tags": []
   },
   "outputs": [],
   "source": [
    "train_dataset = get_training_dataset()\n",
    "valid_dataset = get_validation_dataset()"
   ]
  },
  {
   "cell_type": "code",
   "execution_count": 19,
   "id": "52e50287",
   "metadata": {
    "execution": {
     "iopub.execute_input": "2022-04-10T19:53:05.707462Z",
     "iopub.status.busy": "2022-04-10T19:53:05.706616Z",
     "iopub.status.idle": "2022-04-10T19:53:05.709501Z",
     "shell.execute_reply": "2022-04-10T19:53:05.708967Z",
     "shell.execute_reply.started": "2022-04-10T19:49:29.682510Z"
    },
    "papermill": {
     "duration": 0.024051,
     "end_time": "2022-04-10T19:53:05.709633",
     "exception": false,
     "start_time": "2022-04-10T19:53:05.685582",
     "status": "completed"
    },
    "tags": []
   },
   "outputs": [],
   "source": [
    "STEPS_PER_EPOCH = NUM_TRAINING_IMAGES // BATCH_SIZE\n",
    "VALID_STEPS = NUM_VALIDATION_IMAGES // BATCH_SIZE"
   ]
  },
  {
   "cell_type": "code",
   "execution_count": 20,
   "id": "184864b5",
   "metadata": {
    "execution": {
     "iopub.execute_input": "2022-04-10T19:53:05.751000Z",
     "iopub.status.busy": "2022-04-10T19:53:05.750227Z",
     "iopub.status.idle": "2022-04-10T23:21:33.471137Z",
     "shell.execute_reply": "2022-04-10T23:21:33.470510Z",
     "shell.execute_reply.started": "2022-04-10T19:49:34.380025Z"
    },
    "papermill": {
     "duration": 12507.74575,
     "end_time": "2022-04-10T23:21:33.471335",
     "exception": false,
     "start_time": "2022-04-10T19:53:05.725585",
     "status": "completed"
    },
    "tags": []
   },
   "outputs": [
    {
     "name": "stdout",
     "output_type": "stream",
     "text": [
      "Epoch 1/37\n",
      "630/630 [==============================] - ETA: 0s - loss: 7.2984 - mae: 7.2984\n",
      "Epoch 00001: val_loss improved from inf to 6.60534, saving model to bone_age_weights.best.hdf5\n",
      "630/630 [==============================] - 358s 508ms/step - loss: 7.2984 - mae: 7.2984 - val_loss: 6.6053 - val_mae: 6.6053 - lr: 2.4314e-04\n",
      "Epoch 2/37\n",
      "630/630 [==============================] - ETA: 0s - loss: 7.2968 - mae: 7.2968\n",
      "Epoch 00002: val_loss did not improve from 6.60534\n",
      "630/630 [==============================] - 309s 490ms/step - loss: 7.2968 - mae: 7.2968 - val_loss: 6.6175 - val_mae: 6.6175 - lr: 2.4314e-04\n",
      "Epoch 3/37\n",
      "630/630 [==============================] - ETA: 0s - loss: 7.2747 - mae: 7.2747\n",
      "Epoch 00003: val_loss did not improve from 6.60534\n",
      "630/630 [==============================] - 309s 491ms/step - loss: 7.2747 - mae: 7.2747 - val_loss: 6.6467 - val_mae: 6.6467 - lr: 2.4314e-04\n",
      "Epoch 4/37\n",
      "630/630 [==============================] - ETA: 0s - loss: 7.2574 - mae: 7.2574\n",
      "Epoch 00004: val_loss did not improve from 6.60534\n",
      "630/630 [==============================] - 306s 486ms/step - loss: 7.2574 - mae: 7.2574 - val_loss: 6.7447 - val_mae: 6.7447 - lr: 2.4314e-04\n",
      "Epoch 5/37\n",
      "630/630 [==============================] - ETA: 0s - loss: 7.3089 - mae: 7.3089\n",
      "Epoch 00005: val_loss did not improve from 6.60534\n",
      "630/630 [==============================] - 306s 486ms/step - loss: 7.3089 - mae: 7.3089 - val_loss: 6.9160 - val_mae: 6.9160 - lr: 2.4314e-04\n",
      "Epoch 6/37\n",
      "630/630 [==============================] - ETA: 0s - loss: 7.3672 - mae: 7.3672\n",
      "Epoch 00006: ReduceLROnPlateau reducing learning rate to 0.00019451200496405365.\n",
      "\n",
      "Epoch 00006: val_loss did not improve from 6.60534\n",
      "630/630 [==============================] - 300s 476ms/step - loss: 7.3672 - mae: 7.3672 - val_loss: 6.6537 - val_mae: 6.6537 - lr: 2.4314e-04\n",
      "Epoch 7/37\n",
      "630/630 [==============================] - ETA: 0s - loss: 7.2504 - mae: 7.2504\n",
      "Epoch 00007: val_loss did not improve from 6.60534\n",
      "630/630 [==============================] - 296s 471ms/step - loss: 7.2504 - mae: 7.2504 - val_loss: 6.6383 - val_mae: 6.6383 - lr: 1.9451e-04\n",
      "Epoch 8/37\n",
      "630/630 [==============================] - ETA: 0s - loss: 7.3296 - mae: 7.3296\n",
      "Epoch 00008: val_loss did not improve from 6.60534\n",
      "630/630 [==============================] - 308s 489ms/step - loss: 7.3296 - mae: 7.3296 - val_loss: 6.6810 - val_mae: 6.6810 - lr: 1.9451e-04\n",
      "Epoch 9/37\n",
      "630/630 [==============================] - ETA: 0s - loss: 7.2974 - mae: 7.2974\n",
      "Epoch 00009: val_loss did not improve from 6.60534\n",
      "630/630 [==============================] - 299s 474ms/step - loss: 7.2974 - mae: 7.2974 - val_loss: 6.6559 - val_mae: 6.6559 - lr: 1.9451e-04\n",
      "Epoch 10/37\n",
      "630/630 [==============================] - ETA: 0s - loss: 7.2742 - mae: 7.2742\n",
      "Epoch 00010: val_loss did not improve from 6.60534\n",
      "630/630 [==============================] - 295s 469ms/step - loss: 7.2742 - mae: 7.2742 - val_loss: 6.6726 - val_mae: 6.6726 - lr: 1.9451e-04\n",
      "Epoch 11/37\n",
      "630/630 [==============================] - ETA: 0s - loss: 7.2528 - mae: 7.2528\n",
      "Epoch 00011: val_loss did not improve from 6.60534\n",
      "630/630 [==============================] - 284s 451ms/step - loss: 7.2528 - mae: 7.2528 - val_loss: 6.6572 - val_mae: 6.6572 - lr: 1.9451e-04\n",
      "Epoch 12/37\n",
      "630/630 [==============================] - ETA: 0s - loss: 7.2379 - mae: 7.2379\n",
      "Epoch 00012: val_loss did not improve from 6.60534\n",
      "630/630 [==============================] - 297s 471ms/step - loss: 7.2379 - mae: 7.2379 - val_loss: 6.6380 - val_mae: 6.6380 - lr: 1.9451e-04\n",
      "Epoch 13/37\n",
      "630/630 [==============================] - ETA: 0s - loss: 7.2419 - mae: 7.2419\n",
      "Epoch 00013: val_loss did not improve from 6.60534\n",
      "630/630 [==============================] - 296s 470ms/step - loss: 7.2419 - mae: 7.2419 - val_loss: 6.7860 - val_mae: 6.7860 - lr: 1.9451e-04\n",
      "Epoch 14/37\n",
      "630/630 [==============================] - ETA: 0s - loss: 7.2599 - mae: 7.2599\n",
      "Epoch 00014: val_loss did not improve from 6.60534\n",
      "630/630 [==============================] - 296s 470ms/step - loss: 7.2599 - mae: 7.2599 - val_loss: 6.6208 - val_mae: 6.6208 - lr: 1.9451e-04\n",
      "Epoch 15/37\n",
      "630/630 [==============================] - ETA: 0s - loss: 7.2381 - mae: 7.2381\n",
      "Epoch 00015: ReduceLROnPlateau reducing learning rate to 0.00015560960164293647.\n",
      "\n",
      "Epoch 00015: val_loss did not improve from 6.60534\n",
      "630/630 [==============================] - 295s 469ms/step - loss: 7.2381 - mae: 7.2381 - val_loss: 6.6234 - val_mae: 6.6234 - lr: 1.9451e-04\n",
      "Epoch 16/37\n",
      "630/630 [==============================] - ETA: 0s - loss: 7.2063 - mae: 7.2063\n",
      "Epoch 00016: val_loss did not improve from 6.60534\n",
      "630/630 [==============================] - 296s 471ms/step - loss: 7.2063 - mae: 7.2063 - val_loss: 6.6943 - val_mae: 6.6943 - lr: 1.5561e-04\n",
      "Epoch 17/37\n",
      "630/630 [==============================] - ETA: 0s - loss: 7.1516 - mae: 7.1516\n",
      "Epoch 00017: val_loss improved from 6.60534 to 6.53325, saving model to bone_age_weights.best.hdf5\n",
      "630/630 [==============================] - 302s 479ms/step - loss: 7.1516 - mae: 7.1516 - val_loss: 6.5333 - val_mae: 6.5333 - lr: 1.5561e-04\n",
      "Epoch 18/37\n",
      "630/630 [==============================] - ETA: 0s - loss: 7.1361 - mae: 7.1361\n",
      "Epoch 00018: val_loss did not improve from 6.53325\n",
      "630/630 [==============================] - 296s 470ms/step - loss: 7.1361 - mae: 7.1361 - val_loss: 6.5613 - val_mae: 6.5613 - lr: 1.5561e-04\n",
      "Epoch 19/37\n",
      "630/630 [==============================] - ETA: 0s - loss: 7.2493 - mae: 7.2493\n",
      "Epoch 00019: val_loss did not improve from 6.53325\n",
      "630/630 [==============================] - 304s 482ms/step - loss: 7.2493 - mae: 7.2493 - val_loss: 6.6770 - val_mae: 6.6770 - lr: 1.5561e-04\n",
      "Epoch 20/37\n",
      "630/630 [==============================] - ETA: 0s - loss: 7.2283 - mae: 7.2283\n",
      "Epoch 00020: val_loss did not improve from 6.53325\n",
      "630/630 [==============================] - 299s 475ms/step - loss: 7.2283 - mae: 7.2283 - val_loss: 6.6503 - val_mae: 6.6503 - lr: 1.5561e-04\n",
      "Epoch 21/37\n",
      "630/630 [==============================] - ETA: 0s - loss: 7.2442 - mae: 7.2442\n",
      "Epoch 00021: val_loss did not improve from 6.53325\n",
      "630/630 [==============================] - 304s 483ms/step - loss: 7.2442 - mae: 7.2442 - val_loss: 6.5740 - val_mae: 6.5740 - lr: 1.5561e-04\n",
      "Epoch 22/37\n",
      "630/630 [==============================] - ETA: 0s - loss: 7.1791 - mae: 7.1791\n",
      "Epoch 00022: val_loss did not improve from 6.53325\n",
      "630/630 [==============================] - 303s 481ms/step - loss: 7.1791 - mae: 7.1791 - val_loss: 6.6602 - val_mae: 6.6602 - lr: 1.5561e-04\n",
      "Epoch 23/37\n",
      "630/630 [==============================] - ETA: 0s - loss: 7.1338 - mae: 7.1338\n",
      "Epoch 00023: val_loss did not improve from 6.53325\n",
      "630/630 [==============================] - 301s 478ms/step - loss: 7.1338 - mae: 7.1338 - val_loss: 6.6836 - val_mae: 6.6836 - lr: 1.5561e-04\n",
      "Epoch 24/37\n",
      "630/630 [==============================] - ETA: 0s - loss: 7.1594 - mae: 7.1594\n",
      "Epoch 00024: ReduceLROnPlateau reducing learning rate to 0.0001244876766577363.\n",
      "\n",
      "Epoch 00024: val_loss did not improve from 6.53325\n",
      "630/630 [==============================] - 304s 483ms/step - loss: 7.1594 - mae: 7.1594 - val_loss: 6.7171 - val_mae: 6.7171 - lr: 1.5561e-04\n",
      "Epoch 25/37\n",
      "630/630 [==============================] - ETA: 0s - loss: 7.2051 - mae: 7.2051\n",
      "Epoch 00025: val_loss did not improve from 6.53325\n",
      "630/630 [==============================] - 305s 484ms/step - loss: 7.2051 - mae: 7.2051 - val_loss: 6.6701 - val_mae: 6.6701 - lr: 1.2449e-04\n",
      "Epoch 26/37\n",
      "630/630 [==============================] - ETA: 0s - loss: 7.2104 - mae: 7.2104\n",
      "Epoch 00026: val_loss did not improve from 6.53325\n",
      "630/630 [==============================] - 300s 477ms/step - loss: 7.2104 - mae: 7.2104 - val_loss: 6.6740 - val_mae: 6.6740 - lr: 1.2449e-04\n",
      "Epoch 27/37\n",
      "630/630 [==============================] - ETA: 0s - loss: 7.1862 - mae: 7.1862\n",
      "Epoch 00027: val_loss did not improve from 6.53325\n",
      "630/630 [==============================] - 297s 471ms/step - loss: 7.1862 - mae: 7.1862 - val_loss: 6.5684 - val_mae: 6.5684 - lr: 1.2449e-04\n",
      "Epoch 28/37\n",
      "630/630 [==============================] - ETA: 0s - loss: 7.1474 - mae: 7.1474\n",
      "Epoch 00028: val_loss did not improve from 6.53325\n",
      "630/630 [==============================] - 300s 476ms/step - loss: 7.1474 - mae: 7.1474 - val_loss: 6.5787 - val_mae: 6.5787 - lr: 1.2449e-04\n",
      "Epoch 29/37\n",
      "630/630 [==============================] - ETA: 0s - loss: 7.1273 - mae: 7.1273\n",
      "Epoch 00029: val_loss did not improve from 6.53325\n",
      "630/630 [==============================] - 298s 472ms/step - loss: 7.1273 - mae: 7.1273 - val_loss: 6.5344 - val_mae: 6.5344 - lr: 1.2449e-04\n",
      "Epoch 30/37\n",
      "630/630 [==============================] - ETA: 0s - loss: 7.1967 - mae: 7.1967\n",
      "Epoch 00030: val_loss did not improve from 6.53325\n",
      "630/630 [==============================] - 299s 475ms/step - loss: 7.1967 - mae: 7.1967 - val_loss: 6.5668 - val_mae: 6.5668 - lr: 1.2449e-04\n",
      "Epoch 31/37\n",
      "630/630 [==============================] - ETA: 0s - loss: 7.1420 - mae: 7.1420\n",
      "Epoch 00031: val_loss did not improve from 6.53325\n",
      "630/630 [==============================] - 301s 477ms/step - loss: 7.1420 - mae: 7.1420 - val_loss: 6.6435 - val_mae: 6.6435 - lr: 1.2449e-04\n",
      "Epoch 32/37\n",
      "630/630 [==============================] - ETA: 0s - loss: 7.1959 - mae: 7.1959\n",
      "Epoch 00032: val_loss did not improve from 6.53325\n",
      "630/630 [==============================] - 305s 483ms/step - loss: 7.1959 - mae: 7.1959 - val_loss: 6.5707 - val_mae: 6.5707 - lr: 1.2449e-04\n",
      "Epoch 33/37\n",
      "630/630 [==============================] - ETA: 0s - loss: 7.2231 - mae: 7.2231\n",
      "Epoch 00033: ReduceLROnPlateau reducing learning rate to 9.959014132618905e-05.\n",
      "\n",
      "Epoch 00033: val_loss did not improve from 6.53325\n",
      "630/630 [==============================] - 298s 473ms/step - loss: 7.2231 - mae: 7.2231 - val_loss: 6.6947 - val_mae: 6.6947 - lr: 1.2449e-04\n",
      "Epoch 34/37\n",
      "630/630 [==============================] - ETA: 0s - loss: 7.1103 - mae: 7.1103\n",
      "Epoch 00034: val_loss improved from 6.53325 to 6.49793, saving model to bone_age_weights.best.hdf5\n",
      "630/630 [==============================] - 305s 485ms/step - loss: 7.1103 - mae: 7.1103 - val_loss: 6.4979 - val_mae: 6.4979 - lr: 9.9590e-05\n",
      "Epoch 35/37\n",
      "630/630 [==============================] - ETA: 0s - loss: 7.1333 - mae: 7.1333\n",
      "Epoch 00035: val_loss did not improve from 6.49793\n",
      "630/630 [==============================] - 300s 476ms/step - loss: 7.1333 - mae: 7.1333 - val_loss: 6.5031 - val_mae: 6.5031 - lr: 9.9590e-05\n",
      "Epoch 36/37\n",
      "630/630 [==============================] - ETA: 0s - loss: 7.1511 - mae: 7.1511\n",
      "Epoch 00036: val_loss did not improve from 6.49793\n",
      "630/630 [==============================] - 300s 477ms/step - loss: 7.1511 - mae: 7.1511 - val_loss: 6.5044 - val_mae: 6.5044 - lr: 9.9590e-05\n",
      "Epoch 37/37\n",
      "630/630 [==============================] - ETA: 0s - loss: 7.1930 - mae: 7.1930\n",
      "Epoch 00037: val_loss did not improve from 6.49793\n",
      "630/630 [==============================] - 301s 478ms/step - loss: 7.1930 - mae: 7.1930 - val_loss: 6.6054 - val_mae: 6.6054 - lr: 9.9590e-05\n"
     ]
    }
   ],
   "source": [
    "initalHistory = model.fit(train_dataset, \n",
    "                    steps_per_epoch=STEPS_PER_EPOCH, \n",
    "                    epochs=37,\n",
    "                    validation_data=valid_dataset,\n",
    "                    validation_steps=VALID_STEPS,\n",
    "                    callbacks = callBacks)"
   ]
  }
 ],
 "metadata": {
  "interpreter": {
   "hash": "78bcbf71713dd947ce2131f7f6689fb7d7a7279f673cc1a06b2b5cdb722ee962"
  },
  "kernelspec": {
   "display_name": "Python 3.9.5 ('newEnv': venv)",
   "language": "python",
   "name": "python3"
  },
  "language_info": {
   "codemirror_mode": {
    "name": "ipython",
    "version": 3
   },
   "file_extension": ".py",
   "mimetype": "text/x-python",
   "name": "python",
   "nbconvert_exporter": "python",
   "pygments_lexer": "ipython3",
   "version": "3.9.5"
  },
  "papermill": {
   "default_parameters": {},
   "duration": 12552.345905,
   "end_time": "2022-04-10T23:21:42.488841",
   "environment_variables": {},
   "exception": null,
   "input_path": "__notebook__.ipynb",
   "output_path": "__notebook__.ipynb",
   "parameters": {},
   "start_time": "2022-04-10T19:52:30.142936",
   "version": "2.3.3"
  }
 },
 "nbformat": 4,
 "nbformat_minor": 5
}

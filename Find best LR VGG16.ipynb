{
 "cells": [
  {
   "cell_type": "code",
   "execution_count": 1,
   "id": "461c2fb6",
   "metadata": {
    "execution": {
     "iopub.execute_input": "2022-04-08T15:14:21.496820Z",
     "iopub.status.busy": "2022-04-08T15:14:21.496148Z",
     "iopub.status.idle": "2022-04-08T15:14:28.023326Z",
     "shell.execute_reply": "2022-04-08T15:14:28.022402Z",
     "shell.execute_reply.started": "2022-04-08T12:05:45.585419Z"
    },
    "papermill": {
     "duration": 6.567778,
     "end_time": "2022-04-08T15:14:28.023510",
     "exception": false,
     "start_time": "2022-04-08T15:14:21.455732",
     "status": "completed"
    },
    "tags": []
   },
   "outputs": [
    {
     "name": "stderr",
     "output_type": "stream",
     "text": [
      "2022-04-08 15:14:23.138603: W tensorflow/stream_executor/platform/default/dso_loader.cc:60] Could not load dynamic library 'libcudart.so.11.0'; dlerror: libcudart.so.11.0: cannot open shared object file: No such file or directory; LD_LIBRARY_PATH: /opt/conda/lib\n",
      "2022-04-08 15:14:23.138714: I tensorflow/stream_executor/cuda/cudart_stub.cc:29] Ignore above cudart dlerror if you do not have a GPU set up on your machine.\n"
     ]
    }
   ],
   "source": [
    "import re, math\n",
    "import numpy as np\n",
    "import matplotlib.pyplot as plt\n",
    "from functools import partial\n",
    "from sklearn.model_selection import train_test_split\n",
    "from kaggle_datasets import KaggleDatasets\n",
    "import tensorflow as tf\n",
    "from tensorflow.keras import Input\n",
    "from tensorflow.keras import backend as K\n",
    "from tensorflow.keras.callbacks import LearningRateScheduler\n",
    "from tensorflow.keras.layers import Dense, GlobalAveragePooling2D, Dense, Dropout, Input, Conv2D, multiply, LocallyConnected2D, Lambda, BatchNormalization\n",
    "from tensorflow.keras.applications.vgg16 import VGG16\n",
    "from tensorflow.keras.metrics import mean_absolute_error\n",
    "from tensorflow.keras.optimizers import Adam\n",
    "from tensorflow.keras.models import Model\n",
    "\n",
    "tf.random.set_seed(42)"
   ]
  },
  {
   "cell_type": "code",
   "execution_count": 2,
   "id": "2c6da4a1",
   "metadata": {
    "execution": {
     "iopub.execute_input": "2022-04-08T15:14:28.080486Z",
     "iopub.status.busy": "2022-04-08T15:14:28.079776Z",
     "iopub.status.idle": "2022-04-08T15:14:33.559224Z",
     "shell.execute_reply": "2022-04-08T15:14:33.558570Z",
     "shell.execute_reply.started": "2022-04-08T12:05:45.610343Z"
    },
    "papermill": {
     "duration": 5.510195,
     "end_time": "2022-04-08T15:14:33.559395",
     "exception": false,
     "start_time": "2022-04-08T15:14:28.049200",
     "status": "completed"
    },
    "tags": []
   },
   "outputs": [
    {
     "name": "stdout",
     "output_type": "stream",
     "text": [
      "Device: grpc://10.0.0.2:8470\n"
     ]
    },
    {
     "name": "stderr",
     "output_type": "stream",
     "text": [
      "2022-04-08 15:14:28.086492: I tensorflow/compiler/jit/xla_cpu_device.cc:41] Not creating XLA devices, tf_xla_enable_xla_devices not set\n",
      "2022-04-08 15:14:28.089602: W tensorflow/stream_executor/platform/default/dso_loader.cc:60] Could not load dynamic library 'libcuda.so.1'; dlerror: libcuda.so.1: cannot open shared object file: No such file or directory; LD_LIBRARY_PATH: /opt/conda/lib\n",
      "2022-04-08 15:14:28.089643: W tensorflow/stream_executor/cuda/cuda_driver.cc:326] failed call to cuInit: UNKNOWN ERROR (303)\n",
      "2022-04-08 15:14:28.089672: I tensorflow/stream_executor/cuda/cuda_diagnostics.cc:156] kernel driver does not appear to be running on this host (a7048cdd8eee): /proc/driver/nvidia/version does not exist\n",
      "2022-04-08 15:14:28.092399: I tensorflow/core/platform/cpu_feature_guard.cc:142] This TensorFlow binary is optimized with oneAPI Deep Neural Network Library (oneDNN) to use the following CPU instructions in performance-critical operations:  AVX2 FMA\n",
      "To enable them in other operations, rebuild TensorFlow with the appropriate compiler flags.\n",
      "2022-04-08 15:14:28.093969: I tensorflow/compiler/jit/xla_gpu_device.cc:99] Not creating XLA devices, tf_xla_enable_xla_devices not set\n",
      "2022-04-08 15:14:28.124723: I tensorflow/core/distributed_runtime/rpc/grpc_channel.cc:301] Initialize GrpcChannelCache for job worker -> {0 -> 10.0.0.2:8470}\n",
      "2022-04-08 15:14:28.124794: I tensorflow/core/distributed_runtime/rpc/grpc_channel.cc:301] Initialize GrpcChannelCache for job localhost -> {0 -> localhost:30019}\n",
      "2022-04-08 15:14:28.150653: I tensorflow/core/distributed_runtime/rpc/grpc_channel.cc:301] Initialize GrpcChannelCache for job worker -> {0 -> 10.0.0.2:8470}\n",
      "2022-04-08 15:14:28.150716: I tensorflow/core/distributed_runtime/rpc/grpc_channel.cc:301] Initialize GrpcChannelCache for job localhost -> {0 -> localhost:30019}\n",
      "2022-04-08 15:14:28.152353: I tensorflow/core/distributed_runtime/rpc/grpc_server_lib.cc:411] Started server with target: grpc://localhost:30019\n"
     ]
    },
    {
     "name": "stdout",
     "output_type": "stream",
     "text": [
      "Number of replicas: 8\n"
     ]
    }
   ],
   "source": [
    "try:\n",
    "    tpu = tf.distribute.cluster_resolver.TPUClusterResolver()\n",
    "    print('Device:', tpu.master())\n",
    "    tf.config.experimental_connect_to_cluster(tpu)\n",
    "    tf.tpu.experimental.initialize_tpu_system(tpu)\n",
    "    strategy = tf.distribute.experimental.TPUStrategy(tpu)\n",
    "except:\n",
    "    strategy = tf.distribute.get_strategy()\n",
    "print('Number of replicas:', strategy.num_replicas_in_sync)"
   ]
  },
  {
   "cell_type": "code",
   "execution_count": 3,
   "id": "bbf0e6ff",
   "metadata": {
    "execution": {
     "iopub.execute_input": "2022-04-08T15:14:33.627118Z",
     "iopub.status.busy": "2022-04-08T15:14:33.626266Z",
     "iopub.status.idle": "2022-04-08T15:14:34.240271Z",
     "shell.execute_reply": "2022-04-08T15:14:34.239688Z",
     "shell.execute_reply.started": "2022-04-08T12:05:45.648304Z"
    },
    "papermill": {
     "duration": 0.654113,
     "end_time": "2022-04-08T15:14:34.240414",
     "exception": false,
     "start_time": "2022-04-08T15:14:33.586301",
     "status": "completed"
    },
    "tags": []
   },
   "outputs": [],
   "source": [
    "AUTOTUNE = tf.data.experimental.AUTOTUNE\n",
    "BATCH_SIZE = 16 * strategy.num_replicas_in_sync\n",
    "IMAGE_SIZE = [512, 512]\n",
    "GCS_PATH = KaggleDatasets().get_gcs_path()\n",
    "HEIGHT = 512\n",
    "WIDTH = 512\n",
    "CHANNELS = 1"
   ]
  },
  {
   "cell_type": "code",
   "execution_count": 4,
   "id": "de60dbb4",
   "metadata": {
    "execution": {
     "iopub.execute_input": "2022-04-08T15:14:34.298952Z",
     "iopub.status.busy": "2022-04-08T15:14:34.298286Z",
     "iopub.status.idle": "2022-04-08T15:14:34.300488Z",
     "shell.execute_reply": "2022-04-08T15:14:34.299877Z",
     "shell.execute_reply.started": "2022-04-08T12:05:46.109715Z"
    },
    "papermill": {
     "duration": 0.033884,
     "end_time": "2022-04-08T15:14:34.300642",
     "exception": false,
     "start_time": "2022-04-08T15:14:34.266758",
     "status": "completed"
    },
    "tags": []
   },
   "outputs": [],
   "source": [
    "def decode_image(image):\n",
    "    image = tf.image.decode_jpeg(image, channels=1)\n",
    "    image = tf.cast(image, tf.float32) / 255.0\n",
    "    image = tf.image.resize(image, IMAGE_SIZE)\n",
    "#     image = tf.image.rgb_to_grayscale(image)\n",
    "    return image"
   ]
  },
  {
   "cell_type": "code",
   "execution_count": 5,
   "id": "673d02f4",
   "metadata": {
    "execution": {
     "iopub.execute_input": "2022-04-08T15:14:34.362653Z",
     "iopub.status.busy": "2022-04-08T15:14:34.361948Z",
     "iopub.status.idle": "2022-04-08T15:14:34.364418Z",
     "shell.execute_reply": "2022-04-08T15:14:34.364856Z",
     "shell.execute_reply.started": "2022-04-08T12:05:46.116998Z"
    },
    "papermill": {
     "duration": 0.03657,
     "end_time": "2022-04-08T15:14:34.365028",
     "exception": false,
     "start_time": "2022-04-08T15:14:34.328458",
     "status": "completed"
    },
    "tags": []
   },
   "outputs": [],
   "source": [
    "def read_tfrecord(example):\n",
    "    tfrecord_format = {\n",
    "        'image': tf.io.FixedLenFeature([], tf.string),\n",
    "#         'image_id': tf.io.FixedLenFeature([], tf.string),\n",
    "        'id': tf.io.FixedLenFeature([], tf.string),\n",
    "        'boneage': tf.io.FixedLenFeature([], tf.int64),\n",
    "        'male': tf.io.FixedLenFeature([], tf.int64)\n",
    "    }\n",
    "    example = tf.io.parse_single_example(example, tfrecord_format)\n",
    "    image = decode_image(example['image'])\n",
    "    boneAge = tf.cast(example['boneage'], tf.int32)\n",
    "    # male = tf.cast(example['male'], tf.bool)\n",
    "    # inputs = {}\n",
    "    # inputs['image'] = image\n",
    "    # inputs['gender'] = male\n",
    "    # return inputs, boneAge\n",
    "    return image, boneAge"
   ]
  },
  {
   "cell_type": "code",
   "execution_count": 6,
   "id": "80d13a04",
   "metadata": {
    "execution": {
     "iopub.execute_input": "2022-04-08T15:14:34.423493Z",
     "iopub.status.busy": "2022-04-08T15:14:34.422446Z",
     "iopub.status.idle": "2022-04-08T15:14:34.425101Z",
     "shell.execute_reply": "2022-04-08T15:14:34.424483Z",
     "shell.execute_reply.started": "2022-04-08T12:05:46.127752Z"
    },
    "papermill": {
     "duration": 0.034184,
     "end_time": "2022-04-08T15:14:34.425237",
     "exception": false,
     "start_time": "2022-04-08T15:14:34.391053",
     "status": "completed"
    },
    "tags": []
   },
   "outputs": [],
   "source": [
    "def load_dataset(filenames):\n",
    "    ignore_order = tf.data.Options()\n",
    "    ignore_order.experimental_deterministic = False # disable order, increase speed\n",
    "    dataset = tf.data.TFRecordDataset(filenames, num_parallel_reads=AUTOTUNE) # automatically interleaves reads from multiple files\n",
    "    dataset = dataset.with_options(ignore_order) # uses data as soon as it streams in, rather than in its original order\n",
    "    dataset = dataset.map(partial(read_tfrecord), num_parallel_calls=AUTOTUNE)\n",
    "    return dataset"
   ]
  },
  {
   "cell_type": "code",
   "execution_count": 7,
   "id": "216c9464",
   "metadata": {
    "execution": {
     "iopub.execute_input": "2022-04-08T15:14:34.481621Z",
     "iopub.status.busy": "2022-04-08T15:14:34.479632Z",
     "iopub.status.idle": "2022-04-08T15:14:34.602056Z",
     "shell.execute_reply": "2022-04-08T15:14:34.601439Z",
     "shell.execute_reply.started": "2022-04-08T12:05:46.138135Z"
    },
    "papermill": {
     "duration": 0.151076,
     "end_time": "2022-04-08T15:14:34.602210",
     "exception": false,
     "start_time": "2022-04-08T15:14:34.451134",
     "status": "completed"
    },
    "tags": []
   },
   "outputs": [
    {
     "name": "stderr",
     "output_type": "stream",
     "text": [
      "2022-04-08 15:14:34.485970: I tensorflow/core/platform/cloud/google_auth_provider.cc:180] Attempting an empty bearer token since no token was retrieved from files, and GCE metadata check was skipped.\n"
     ]
    }
   ],
   "source": [
    "TRAINING_FILENAMES, VALID_FILENAMES = train_test_split(\n",
    "    tf.io.gfile.glob(GCS_PATH + '/bone_age_tfrecords/*.tfrec'),\n",
    "    # tf.io.gfile.glob('./bone-age-tfrecords/*.tfrec'),\n",
    "    test_size=0.2, random_state=2018\n",
    ")"
   ]
  },
  {
   "cell_type": "code",
   "execution_count": 8,
   "id": "408f204a",
   "metadata": {
    "execution": {
     "iopub.execute_input": "2022-04-08T15:14:34.672321Z",
     "iopub.status.busy": "2022-04-08T15:14:34.671304Z",
     "iopub.status.idle": "2022-04-08T15:14:34.678270Z",
     "shell.execute_reply": "2022-04-08T15:14:34.677592Z",
     "shell.execute_reply.started": "2022-04-08T12:05:46.285095Z"
    },
    "papermill": {
     "duration": 0.049945,
     "end_time": "2022-04-08T15:14:34.678427",
     "exception": false,
     "start_time": "2022-04-08T15:14:34.628482",
     "status": "completed"
    },
    "tags": []
   },
   "outputs": [],
   "source": [
    "def custom_data_augment(image, boneAge):\n",
    "    # image = inputs['image']\n",
    "    p_rotation = tf.random.uniform([], 0, 1.0, dtype=tf.float32)\n",
    "    p_spatial = tf.random.uniform([], 0, 1.0, dtype=tf.float32)\n",
    "    p_rotate = tf.random.uniform([], 0, 1.0, dtype=tf.float32)\n",
    "    p_pixel_1 = tf.random.uniform([], 0, 1.0, dtype=tf.float32)\n",
    "    p_pixel_2 = tf.random.uniform([], 0, 1.0, dtype=tf.float32)\n",
    "    p_pixel_3 = tf.random.uniform([], 0, 1.0, dtype=tf.float32)\n",
    "    p_shear = tf.random.uniform([], 0, 1.0, dtype=tf.float32)\n",
    "    p_crop = tf.random.uniform([], 0, 1.0, dtype=tf.float32)\n",
    "    \n",
    "    # Shear\n",
    "    if p_shear > .2:\n",
    "        if p_shear > .6:\n",
    "            image = transform_shear(image, HEIGHT, shear=20.)\n",
    "        else:\n",
    "            image = transform_shear(image, HEIGHT, shear=-20.)\n",
    "            \n",
    "    # Rotation\n",
    "    if p_rotation > .2:\n",
    "        if p_rotation > .6:\n",
    "            image = transform_rotation(image, HEIGHT, rotation=45.)\n",
    "        else:\n",
    "            image = transform_rotation(image, HEIGHT, rotation=-45.)\n",
    "            \n",
    "    # Flips\n",
    "    image = tf.image.random_flip_left_right(image)\n",
    "    image = tf.image.random_flip_up_down(image)\n",
    "    if p_spatial > .75:\n",
    "        image = tf.image.transpose(image)\n",
    "        \n",
    "    # Rotates\n",
    "    if p_rotate > .75:\n",
    "        image = tf.image.rot90(image, k=3) # rotate 270º\n",
    "    elif p_rotate > .5:\n",
    "        image = tf.image.rot90(image, k=2) # rotate 180º\n",
    "    elif p_rotate > .25:\n",
    "        image = tf.image.rot90(image, k=1) # rotate 90º\n",
    "        \n",
    "#     # Pixel-level transforms\n",
    "#     if p_pixel_1 >= .4:\n",
    "#         image = tf.image.random_saturation(image, lower=.7, upper=1.3)\n",
    "    if p_pixel_2 >= .4:\n",
    "        image = tf.image.random_contrast(image, lower=.8, upper=1.2)\n",
    "    if p_pixel_3 >= .4:\n",
    "        image = tf.image.random_brightness(image, max_delta=.1)\n",
    "        \n",
    "    # Crops\n",
    "    if p_crop > .7:\n",
    "        if p_crop > .9:\n",
    "            image = tf.image.central_crop(image, central_fraction=.6)\n",
    "        elif p_crop > .8:\n",
    "            image = tf.image.central_crop(image, central_fraction=.7)\n",
    "        else:\n",
    "            image = tf.image.central_crop(image, central_fraction=.8)\n",
    "    elif p_crop > .4:\n",
    "        crop_size = tf.random.uniform([], int(HEIGHT*.6), HEIGHT, dtype=tf.int32)\n",
    "        image = tf.image.random_crop(image, size=[crop_size, crop_size, CHANNELS])\n",
    "            \n",
    "    image = tf.image.resize(image, size=[HEIGHT, WIDTH])\n",
    "\n",
    "    # inputs['image'] = image\n",
    "    return image, boneAge"
   ]
  },
  {
   "cell_type": "code",
   "execution_count": 9,
   "id": "0cbece02",
   "metadata": {
    "execution": {
     "iopub.execute_input": "2022-04-08T15:14:34.754499Z",
     "iopub.status.busy": "2022-04-08T15:14:34.753731Z",
     "iopub.status.idle": "2022-04-08T15:14:34.756281Z",
     "shell.execute_reply": "2022-04-08T15:14:34.755760Z",
     "shell.execute_reply.started": "2022-04-08T12:05:46.303779Z"
    },
    "papermill": {
     "duration": 0.050899,
     "end_time": "2022-04-08T15:14:34.756429",
     "exception": false,
     "start_time": "2022-04-08T15:14:34.705530",
     "status": "completed"
    },
    "tags": []
   },
   "outputs": [],
   "source": [
    "# data augmentation @cdeotte kernel: https://www.kaggle.com/cdeotte/rotation-augmentation-gpu-tpu-0-96\n",
    "def transform_rotation(image, height, rotation):\n",
    "    # input image - is one image of size [dim,dim,3] not a batch of [b,dim,dim,3]\n",
    "    # output - image randomly rotated\n",
    "    DIM = height\n",
    "    XDIM = DIM%2 #fix for size 331\n",
    "    \n",
    "    rotation = rotation * tf.random.uniform([1],dtype='float32')\n",
    "    # CONVERT DEGREES TO RADIANS\n",
    "    rotation = math.pi * rotation / 180.\n",
    "    \n",
    "    # ROTATION MATRIX\n",
    "    c1 = tf.math.cos(rotation)\n",
    "    s1 = tf.math.sin(rotation)\n",
    "    one = tf.constant([1],dtype='float32')\n",
    "    zero = tf.constant([0],dtype='float32')\n",
    "    rotation_matrix = tf.reshape(tf.concat([c1,s1,zero, -s1,c1,zero, zero,zero,one],axis=0),[3,3])\n",
    "\n",
    "    # LIST DESTINATION PIXEL INDICES\n",
    "    x = tf.repeat( tf.range(DIM//2,-DIM//2,-1), DIM )\n",
    "    y = tf.tile( tf.range(-DIM//2,DIM//2),[DIM] )\n",
    "    z = tf.ones([DIM*DIM],dtype='int32')\n",
    "    idx = tf.stack( [x,y,z] )\n",
    "    \n",
    "    # ROTATE DESTINATION PIXELS ONTO ORIGIN PIXELS\n",
    "    idx2 = K.dot(rotation_matrix,tf.cast(idx,dtype='float32'))\n",
    "    idx2 = K.cast(idx2,dtype='int32')\n",
    "    idx2 = K.clip(idx2,-DIM//2+XDIM+1,DIM//2)\n",
    "    \n",
    "    # FIND ORIGIN PIXEL VALUES \n",
    "    idx3 = tf.stack( [DIM//2-idx2[0,], DIM//2-1+idx2[1,]] )\n",
    "    d = tf.gather_nd(image, tf.transpose(idx3))\n",
    "        \n",
    "    return tf.reshape(d,[DIM,DIM,1])\n",
    "\n",
    "def transform_shear(image, height, shear):\n",
    "    # input image - is one image of size [dim,dim,3] not a batch of [b,dim,dim,3]\n",
    "    # output - image randomly sheared\n",
    "    DIM = height\n",
    "    XDIM = DIM%2 #fix for size 331\n",
    "    \n",
    "    shear = shear * tf.random.uniform([1],dtype='float32')\n",
    "    shear = math.pi * shear / 180.\n",
    "        \n",
    "    # SHEAR MATRIX\n",
    "    one = tf.constant([1],dtype='float32')\n",
    "    zero = tf.constant([0],dtype='float32')\n",
    "    c2 = tf.math.cos(shear)\n",
    "    s2 = tf.math.sin(shear)\n",
    "    shear_matrix = tf.reshape(tf.concat([one,s2,zero, zero,c2,zero, zero,zero,one],axis=0),[3,3])    \n",
    "\n",
    "    # LIST DESTINATION PIXEL INDICES\n",
    "    x = tf.repeat( tf.range(DIM//2,-DIM//2,-1), DIM )\n",
    "    y = tf.tile( tf.range(-DIM//2,DIM//2),[DIM] )\n",
    "    z = tf.ones([DIM*DIM],dtype='int32')\n",
    "    idx = tf.stack( [x,y,z] )\n",
    "    \n",
    "    # ROTATE DESTINATION PIXELS ONTO ORIGIN PIXELS\n",
    "    idx2 = K.dot(shear_matrix,tf.cast(idx,dtype='float32'))\n",
    "    idx2 = K.cast(idx2,dtype='int32')\n",
    "    idx2 = K.clip(idx2,-DIM//2+XDIM+1,DIM//2)\n",
    "    \n",
    "    # FIND ORIGIN PIXEL VALUES \n",
    "    idx3 = tf.stack( [DIM//2-idx2[0,], DIM//2-1+idx2[1,]] )\n",
    "    d = tf.gather_nd(image, tf.transpose(idx3))\n",
    "        \n",
    "    return tf.reshape(d,[DIM,DIM,1])"
   ]
  },
  {
   "cell_type": "code",
   "execution_count": 10,
   "id": "99a43bfe",
   "metadata": {
    "execution": {
     "iopub.execute_input": "2022-04-08T15:14:34.812404Z",
     "iopub.status.busy": "2022-04-08T15:14:34.811776Z",
     "iopub.status.idle": "2022-04-08T15:14:34.817602Z",
     "shell.execute_reply": "2022-04-08T15:14:34.816924Z",
     "shell.execute_reply.started": "2022-04-08T12:05:46.325221Z"
    },
    "papermill": {
     "duration": 0.034921,
     "end_time": "2022-04-08T15:14:34.817744",
     "exception": false,
     "start_time": "2022-04-08T15:14:34.782823",
     "status": "completed"
    },
    "tags": []
   },
   "outputs": [],
   "source": [
    "def get_training_dataset():\n",
    "    dataset = load_dataset(TRAINING_FILENAMES)  \n",
    "    dataset = dataset.map(custom_data_augment, num_parallel_calls=AUTOTUNE)  \n",
    "    dataset = dataset.repeat()\n",
    "    dataset = dataset.shuffle(1024)\n",
    "    dataset = dataset.batch(BATCH_SIZE)\n",
    "    dataset = dataset.prefetch(AUTOTUNE)\n",
    "    return dataset"
   ]
  },
  {
   "cell_type": "code",
   "execution_count": 11,
   "id": "4e5c2d68",
   "metadata": {
    "execution": {
     "iopub.execute_input": "2022-04-08T15:14:34.876722Z",
     "iopub.status.busy": "2022-04-08T15:14:34.875672Z",
     "iopub.status.idle": "2022-04-08T15:14:34.877498Z",
     "shell.execute_reply": "2022-04-08T15:14:34.878084Z",
     "shell.execute_reply.started": "2022-04-08T12:05:46.337891Z"
    },
    "papermill": {
     "duration": 0.034021,
     "end_time": "2022-04-08T15:14:34.878253",
     "exception": false,
     "start_time": "2022-04-08T15:14:34.844232",
     "status": "completed"
    },
    "tags": []
   },
   "outputs": [],
   "source": [
    "def get_validation_dataset():\n",
    "    dataset = load_dataset(VALID_FILENAMES) \n",
    "    dataset = dataset.batch(BATCH_SIZE)\n",
    "    dataset = dataset.cache()\n",
    "    dataset = dataset.prefetch(AUTOTUNE)\n",
    "    return dataset"
   ]
  },
  {
   "cell_type": "code",
   "execution_count": 12,
   "id": "eeff1113",
   "metadata": {
    "execution": {
     "iopub.execute_input": "2022-04-08T15:14:34.938164Z",
     "iopub.status.busy": "2022-04-08T15:14:34.937313Z",
     "iopub.status.idle": "2022-04-08T15:14:34.940032Z",
     "shell.execute_reply": "2022-04-08T15:14:34.939547Z",
     "shell.execute_reply.started": "2022-04-08T12:05:46.349499Z"
    },
    "papermill": {
     "duration": 0.034714,
     "end_time": "2022-04-08T15:14:34.940191",
     "exception": false,
     "start_time": "2022-04-08T15:14:34.905477",
     "status": "completed"
    },
    "tags": []
   },
   "outputs": [],
   "source": [
    "def count_data_items(filenames):\n",
    "    n = [int(re.compile(r\"-([0-9]*)\\.\").search(filename).group(1)) for filename in filenames]\n",
    "    return np.sum(n)"
   ]
  },
  {
   "cell_type": "code",
   "execution_count": 13,
   "id": "2067befc",
   "metadata": {
    "execution": {
     "iopub.execute_input": "2022-04-08T15:14:34.996221Z",
     "iopub.status.busy": "2022-04-08T15:14:34.995509Z",
     "iopub.status.idle": "2022-04-08T15:14:35.000393Z",
     "shell.execute_reply": "2022-04-08T15:14:35.000960Z",
     "shell.execute_reply.started": "2022-04-08T12:05:46.357127Z"
    },
    "papermill": {
     "duration": 0.034698,
     "end_time": "2022-04-08T15:14:35.001149",
     "exception": false,
     "start_time": "2022-04-08T15:14:34.966451",
     "status": "completed"
    },
    "tags": []
   },
   "outputs": [
    {
     "name": "stdout",
     "output_type": "stream",
     "text": [
      "Dataset: 10088 training images, 2523 validation images\n"
     ]
    }
   ],
   "source": [
    "NUM_TRAINING_IMAGES = count_data_items(TRAINING_FILENAMES)\n",
    "NUM_VALIDATION_IMAGES = count_data_items(VALID_FILENAMES)\n",
    "\n",
    "print('Dataset: {} training images, {} validation images'.format(\n",
    "    NUM_TRAINING_IMAGES, NUM_VALIDATION_IMAGES))"
   ]
  },
  {
   "cell_type": "code",
   "execution_count": 14,
   "id": "5929e255",
   "metadata": {
    "execution": {
     "iopub.execute_input": "2022-04-08T15:14:35.057325Z",
     "iopub.status.busy": "2022-04-08T15:14:35.056673Z",
     "iopub.status.idle": "2022-04-08T15:14:35.068324Z",
     "shell.execute_reply": "2022-04-08T15:14:35.068898Z",
     "shell.execute_reply.started": "2022-04-08T12:05:46.367185Z"
    },
    "papermill": {
     "duration": 0.041475,
     "end_time": "2022-04-08T15:14:35.069102",
     "exception": false,
     "start_time": "2022-04-08T15:14:35.027627",
     "status": "completed"
    },
    "tags": []
   },
   "outputs": [],
   "source": [
    "lrList = [0.001, 0.0010797751623277097, 0.0011659144011798316, 0.0012589254117941673, 0.0013593563908785257, 0.0014677992676220696, \n",
    " 0.0015848931924611136, 0.0017113283041617809, 0.001847849797422291, 0.0019952623149688794, 0.002154434690031884,\n",
    " 0.002326305067153626, 0.0025118864315095803, 0.002712272579332028, 0.0029286445646252365, 0.0031622776601683794,\n",
    " 0.0034145488738336013, 0.003686945064519575, 0.0039810717055349725, 0.004298662347082277, 0.004641588833612778, \n",
    " 0.005011872336272722, 0.005411695265464636, 0.005843414133735177, 0.006309573444801934, 0.0068129206905796135, \n",
    " 0.007356422544596414, 0.007943282347242816, 0.008576958985908942, 0.009261187281287935, 0.01, 0.0107977516232771,\n",
    " 0.011659144011798317, 0.012589254117941675, 0.013593563908785255, 0.014677992676220698, 0.015848931924611134, \n",
    " 0.01711328304161781, 0.018478497974222907, 0.0199526231496888, 0.021544346900318832, 0.023263050671536264, \n",
    " 0.025118864315095794, 0.02712272579332028, 0.02928644564625236, 0.03162277660168379, 0.034145488738336026, \n",
    " 0.036869450645195756, 0.039810717055349734, 0.042986623470822764, 0.0464158883361278, 0.05011872336272723, \n",
    " 0.054116952654646375, 0.05843414133735175, 0.06309573444801933, 0.06812920690579612, 0.07356422544596414, \n",
    " 0.07943282347242814, 0.0857695898590894, 0.09261187281287933, 0.1, 0.10797751623277094, 0.11659144011798322, \n",
    " 0.12589254117941676, 0.13593563908785256, 0.1467799267622069, 0.15848931924611143, 0.1711328304161781, \n",
    " 0.18478497974222907, 0.1995262314968879, 0.21544346900318845, 0.23263050671536264, 0.25118864315095796, \n",
    " 0.2712272579332027, 0.29286445646252374, 0.31622776601683794, 0.3414548873833601, 0.3686945064519577, 0.3981071705534973,\n",
    " 0.42986623470822766, 0.46415888336127775, 0.5011872336272725, 0.5411695265464638, 0.5843414133735175, 0.630957344480193, \n",
    " 0.6812920690579615, 0.7356422544596414, 0.7943282347242813, 0.8576958985908938, 0.9261187281287937, 1.0, \n",
    " 1.0797751623277092, 1.1659144011798324, 1.2589254117941675, 1.3593563908785256, 1.467799267622069, 1.584893192461114, \n",
    " 1.711328304161781, 1.8478497974222907, 1.9952623149688788]"
   ]
  },
  {
   "cell_type": "code",
   "execution_count": 15,
   "id": "7f160ac0",
   "metadata": {
    "execution": {
     "iopub.execute_input": "2022-04-08T15:14:35.127396Z",
     "iopub.status.busy": "2022-04-08T15:14:35.126759Z",
     "iopub.status.idle": "2022-04-08T15:14:35.130134Z",
     "shell.execute_reply": "2022-04-08T15:14:35.130666Z",
     "shell.execute_reply.started": "2022-04-08T12:05:46.379822Z"
    },
    "papermill": {
     "duration": 0.034408,
     "end_time": "2022-04-08T15:14:35.130829",
     "exception": false,
     "start_time": "2022-04-08T15:14:35.096421",
     "status": "completed"
    },
    "tags": []
   },
   "outputs": [],
   "source": [
    "def mySchedular(epoch, currLr):\n",
    "    return lrList[epoch]"
   ]
  },
  {
   "cell_type": "code",
   "execution_count": 16,
   "id": "f80c54a3",
   "metadata": {
    "execution": {
     "iopub.execute_input": "2022-04-08T15:14:35.186954Z",
     "iopub.status.busy": "2022-04-08T15:14:35.186347Z",
     "iopub.status.idle": "2022-04-08T15:14:35.189917Z",
     "shell.execute_reply": "2022-04-08T15:14:35.190427Z",
     "shell.execute_reply.started": "2022-04-08T12:05:46.389887Z"
    },
    "papermill": {
     "duration": 0.033243,
     "end_time": "2022-04-08T15:14:35.190592",
     "exception": false,
     "start_time": "2022-04-08T15:14:35.157349",
     "status": "completed"
    },
    "tags": []
   },
   "outputs": [],
   "source": [
    "schedual = LearningRateScheduler(schedule = mySchedular, verbose = 1)"
   ]
  },
  {
   "cell_type": "code",
   "execution_count": 17,
   "id": "0d9c1cfe",
   "metadata": {
    "execution": {
     "iopub.execute_input": "2022-04-08T15:14:35.249631Z",
     "iopub.status.busy": "2022-04-08T15:14:35.248936Z",
     "iopub.status.idle": "2022-04-08T15:14:35.250569Z",
     "shell.execute_reply": "2022-04-08T15:14:35.251033Z",
     "shell.execute_reply.started": "2022-04-08T12:05:46.400556Z"
    },
    "papermill": {
     "duration": 0.033856,
     "end_time": "2022-04-08T15:14:35.251219",
     "exception": false,
     "start_time": "2022-04-08T15:14:35.217363",
     "status": "completed"
    },
    "tags": []
   },
   "outputs": [],
   "source": [
    "optimizer = Adam()"
   ]
  },
  {
   "cell_type": "code",
   "execution_count": 18,
   "id": "309bf5c0",
   "metadata": {
    "execution": {
     "iopub.execute_input": "2022-04-08T15:14:35.309723Z",
     "iopub.status.busy": "2022-04-08T15:14:35.309035Z",
     "iopub.status.idle": "2022-04-08T15:14:35.310826Z",
     "shell.execute_reply": "2022-04-08T15:14:35.311342Z",
     "shell.execute_reply.started": "2022-04-08T12:05:46.407974Z"
    },
    "papermill": {
     "duration": 0.033673,
     "end_time": "2022-04-08T15:14:35.311519",
     "exception": false,
     "start_time": "2022-04-08T15:14:35.277846",
     "status": "completed"
    },
    "tags": []
   },
   "outputs": [],
   "source": [
    "def mae_months(in_gt, in_pred):\n",
    "        return mean_absolute_error(1 * in_gt, 1 * in_pred)"
   ]
  },
  {
   "cell_type": "code",
   "execution_count": 19,
   "id": "aa8a48d1",
   "metadata": {
    "execution": {
     "iopub.execute_input": "2022-04-08T15:14:35.378419Z",
     "iopub.status.busy": "2022-04-08T15:14:35.367551Z",
     "iopub.status.idle": "2022-04-08T15:14:38.319486Z",
     "shell.execute_reply": "2022-04-08T15:14:38.318724Z",
     "shell.execute_reply.started": "2022-04-08T12:05:46.416709Z"
    },
    "papermill": {
     "duration": 2.981438,
     "end_time": "2022-04-08T15:14:38.319641",
     "exception": false,
     "start_time": "2022-04-08T15:14:35.338203",
     "status": "completed"
    },
    "tags": []
   },
   "outputs": [],
   "source": [
    "with strategy.scope():       \n",
    "    \n",
    "    in_lay = Input(shape=(512, 512, 1))\n",
    "    base_pretrained_model = VGG16(input_shape =  (512, 512, 1), include_top = False, weights = None)\n",
    "    pt_features = base_pretrained_model(in_lay)\n",
    "    pt_depth = base_pretrained_model.get_output_shape_at(0)[-1]\n",
    "    bn_features = BatchNormalization()(pt_features)\n",
    "\n",
    "    # here we do an attention mechanism to turn pixels in the GAP on an off\n",
    "\n",
    "    attn_layer = Conv2D(64, kernel_size = (1,1), padding = 'same', activation = 'relu')(bn_features)\n",
    "    attn_layer = Conv2D(16, kernel_size = (1,1), padding = 'same', activation = 'relu')(attn_layer)\n",
    "    attn_layer = LocallyConnected2D(1, kernel_size = (1,1), padding = 'valid', activation = 'sigmoid')(attn_layer)\n",
    "    # fan it out to all of the channels\n",
    "    up_c2_w = np.ones((1, 1, 1, pt_depth))\n",
    "#     up_c2_w = np.ones((1, pt_depth))\n",
    "    up_c2 = Conv2D(pt_depth, kernel_size = (1,1), padding = 'same', activation = 'linear', use_bias = False, weights = [up_c2_w])\n",
    "    up_c2.trainable = False\n",
    "    attn_layer = up_c2(attn_layer)\n",
    "\n",
    "    mask_features = multiply([attn_layer, bn_features])\n",
    "    gap_features = GlobalAveragePooling2D()(mask_features)\n",
    "    gap_mask = GlobalAveragePooling2D()(attn_layer)\n",
    "    # to account for missing values from the attention model\n",
    "    gap = Lambda(lambda x: x[0]/x[1], name = 'RescaleGAP')([gap_features, gap_mask])\n",
    "    gap_dr = Dropout(0.5)(gap)\n",
    "    dr_steps = Dropout(0.25)(Dense(1024, activation = 'elu')(gap_dr))\n",
    "    out_layer = Dense(1, activation = 'linear')(dr_steps) # linear is what 16bit did\n",
    "    model = Model(inputs = [in_lay], outputs = [out_layer])\n",
    "    \n",
    "    model.compile(optimizer = optimizer, loss = 'mse', metrics = [mae_months])"
   ]
  },
  {
   "cell_type": "code",
   "execution_count": 20,
   "id": "c4169e64",
   "metadata": {
    "execution": {
     "iopub.execute_input": "2022-04-08T15:14:38.377736Z",
     "iopub.status.busy": "2022-04-08T15:14:38.377087Z",
     "iopub.status.idle": "2022-04-08T15:14:38.380226Z",
     "shell.execute_reply": "2022-04-08T15:14:38.379618Z",
     "shell.execute_reply.started": "2022-04-08T12:05:47.441823Z"
    },
    "papermill": {
     "duration": 0.034122,
     "end_time": "2022-04-08T15:14:38.380361",
     "exception": false,
     "start_time": "2022-04-08T15:14:38.346239",
     "status": "completed"
    },
    "tags": []
   },
   "outputs": [],
   "source": [
    "# model.summary()"
   ]
  },
  {
   "cell_type": "code",
   "execution_count": 21,
   "id": "25023317",
   "metadata": {
    "execution": {
     "iopub.execute_input": "2022-04-08T15:14:38.441403Z",
     "iopub.status.busy": "2022-04-08T15:14:38.440381Z",
     "iopub.status.idle": "2022-04-08T15:14:40.280883Z",
     "shell.execute_reply": "2022-04-08T15:14:40.280314Z",
     "shell.execute_reply.started": "2022-04-08T12:05:47.4474Z"
    },
    "papermill": {
     "duration": 1.873886,
     "end_time": "2022-04-08T15:14:40.281037",
     "exception": false,
     "start_time": "2022-04-08T15:14:38.407151",
     "status": "completed"
    },
    "tags": []
   },
   "outputs": [],
   "source": [
    "train_dataset = get_training_dataset()\n",
    "valid_dataset = get_validation_dataset()"
   ]
  },
  {
   "cell_type": "code",
   "execution_count": 22,
   "id": "640479d2",
   "metadata": {
    "execution": {
     "iopub.execute_input": "2022-04-08T15:14:40.339092Z",
     "iopub.status.busy": "2022-04-08T15:14:40.338440Z",
     "iopub.status.idle": "2022-04-08T15:14:40.341131Z",
     "shell.execute_reply": "2022-04-08T15:14:40.341569Z",
     "shell.execute_reply.started": "2022-04-08T12:05:49.642967Z"
    },
    "papermill": {
     "duration": 0.034048,
     "end_time": "2022-04-08T15:14:40.341736",
     "exception": false,
     "start_time": "2022-04-08T15:14:40.307688",
     "status": "completed"
    },
    "tags": []
   },
   "outputs": [],
   "source": [
    "STEPS_PER_EPOCH = NUM_TRAINING_IMAGES // BATCH_SIZE\n",
    "VALID_STEPS = NUM_VALIDATION_IMAGES // BATCH_SIZE"
   ]
  },
  {
   "cell_type": "markdown",
   "id": "d0b34438",
   "metadata": {
    "papermill": {
     "duration": 0.02644,
     "end_time": "2022-04-08T15:14:40.394762",
     "exception": false,
     "start_time": "2022-04-08T15:14:40.368322",
     "status": "completed"
    },
    "tags": []
   },
   "source": []
  },
  {
   "cell_type": "code",
   "execution_count": 23,
   "id": "238e01cd",
   "metadata": {
    "execution": {
     "iopub.execute_input": "2022-04-08T15:14:40.455070Z",
     "iopub.status.busy": "2022-04-08T15:14:40.454007Z",
     "iopub.status.idle": "2022-04-08T16:07:17.882739Z",
     "shell.execute_reply": "2022-04-08T16:07:17.883252Z",
     "shell.execute_reply.started": "2022-04-08T12:05:49.648466Z"
    },
    "papermill": {
     "duration": 3157.461946,
     "end_time": "2022-04-08T16:07:17.883486",
     "exception": false,
     "start_time": "2022-04-08T15:14:40.421540",
     "status": "completed"
    },
    "tags": []
   },
   "outputs": [
    {
     "name": "stdout",
     "output_type": "stream",
     "text": [
      "Epoch 1/100\n",
      "\n",
      "Epoch 00001: LearningRateScheduler reducing learning rate to 0.001.\n",
      "78/78 [==============================] - 79s 563ms/step - loss: 11585.1586 - mae_months: 93.9125 - val_loss: 43246.7930 - val_mae_months: 180.9512\n",
      "Epoch 2/100\n",
      "\n",
      "Epoch 00002: LearningRateScheduler reducing learning rate to 0.0010797751623277097.\n",
      "78/78 [==============================] - 30s 390ms/step - loss: 1980.7569 - mae_months: 36.1620 - val_loss: 2455.6584 - val_mae_months: 38.2599\n",
      "Epoch 3/100\n",
      "\n",
      "Epoch 00003: LearningRateScheduler reducing learning rate to 0.0011659144011798316.\n",
      "78/78 [==============================] - 32s 411ms/step - loss: 1807.5723 - mae_months: 34.5660 - val_loss: 1749.0944 - val_mae_months: 34.6378\n",
      "Epoch 4/100\n",
      "\n",
      "Epoch 00004: LearningRateScheduler reducing learning rate to 0.0012589254117941673.\n",
      "78/78 [==============================] - 30s 382ms/step - loss: 1723.7846 - mae_months: 33.9807 - val_loss: 8895.4512 - val_mae_months: 81.4714\n",
      "Epoch 5/100\n",
      "\n",
      "Epoch 00005: LearningRateScheduler reducing learning rate to 0.0013593563908785257.\n",
      "78/78 [==============================] - 32s 414ms/step - loss: 1733.1987 - mae_months: 34.0051 - val_loss: 2956.7136 - val_mae_months: 41.3208\n",
      "Epoch 6/100\n",
      "\n",
      "Epoch 00006: LearningRateScheduler reducing learning rate to 0.0014677992676220696.\n",
      "78/78 [==============================] - 30s 385ms/step - loss: 1734.4346 - mae_months: 34.0550 - val_loss: 1894.2527 - val_mae_months: 33.6298\n",
      "Epoch 7/100\n",
      "\n",
      "Epoch 00007: LearningRateScheduler reducing learning rate to 0.0015848931924611136.\n",
      "78/78 [==============================] - 32s 412ms/step - loss: 1748.1521 - mae_months: 33.9459 - val_loss: 1731.5120 - val_mae_months: 33.2260\n",
      "Epoch 8/100\n",
      "\n",
      "Epoch 00008: LearningRateScheduler reducing learning rate to 0.0017113283041617809.\n",
      "78/78 [==============================] - 30s 379ms/step - loss: 1760.3678 - mae_months: 34.1024 - val_loss: 1747.2836 - val_mae_months: 34.4602\n",
      "Epoch 9/100\n",
      "\n",
      "Epoch 00009: LearningRateScheduler reducing learning rate to 0.001847849797422291.\n",
      "78/78 [==============================] - 32s 414ms/step - loss: 1741.6166 - mae_months: 34.1159 - val_loss: 2047.0002 - val_mae_months: 38.4132\n",
      "Epoch 10/100\n",
      "\n",
      "Epoch 00010: LearningRateScheduler reducing learning rate to 0.0019952623149688794.\n",
      "78/78 [==============================] - 29s 375ms/step - loss: 1716.0669 - mae_months: 33.7555 - val_loss: 2912.8796 - val_mae_months: 41.0057\n",
      "Epoch 11/100\n",
      "\n",
      "Epoch 00011: LearningRateScheduler reducing learning rate to 0.002154434690031884.\n",
      "78/78 [==============================] - 32s 413ms/step - loss: 1751.4827 - mae_months: 34.0437 - val_loss: 1794.5640 - val_mae_months: 33.0758\n",
      "Epoch 12/100\n",
      "\n",
      "Epoch 00012: LearningRateScheduler reducing learning rate to 0.002326305067153626.\n",
      "78/78 [==============================] - 29s 371ms/step - loss: 1677.3221 - mae_months: 33.4791 - val_loss: 2575.4419 - val_mae_months: 38.3213\n",
      "Epoch 13/100\n",
      "\n",
      "Epoch 00013: LearningRateScheduler reducing learning rate to 0.0025118864315095803.\n",
      "78/78 [==============================] - 32s 416ms/step - loss: 1704.0814 - mae_months: 33.7428 - val_loss: 1677.0885 - val_mae_months: 32.7000\n",
      "Epoch 14/100\n",
      "\n",
      "Epoch 00014: LearningRateScheduler reducing learning rate to 0.002712272579332028.\n",
      "78/78 [==============================] - 28s 364ms/step - loss: 1700.4598 - mae_months: 33.6390 - val_loss: 200381.2969 - val_mae_months: 438.9894\n",
      "Epoch 15/100\n",
      "\n",
      "Epoch 00015: LearningRateScheduler reducing learning rate to 0.0029286445646252365.\n",
      "78/78 [==============================] - 32s 413ms/step - loss: 1679.6796 - mae_months: 33.4806 - val_loss: 1847.9535 - val_mae_months: 35.9779\n",
      "Epoch 16/100\n",
      "\n",
      "Epoch 00016: LearningRateScheduler reducing learning rate to 0.0031622776601683794.\n",
      "78/78 [==============================] - 28s 360ms/step - loss: 1665.3606 - mae_months: 33.3642 - val_loss: 8381.1680 - val_mae_months: 81.9681\n",
      "Epoch 17/100\n",
      "\n",
      "Epoch 00017: LearningRateScheduler reducing learning rate to 0.0034145488738336013.\n",
      "78/78 [==============================] - 32s 411ms/step - loss: 1714.8719 - mae_months: 33.7329 - val_loss: 2932.6687 - val_mae_months: 46.5110\n",
      "Epoch 18/100\n",
      "\n",
      "Epoch 00018: LearningRateScheduler reducing learning rate to 0.003686945064519575.\n",
      "78/78 [==============================] - 29s 367ms/step - loss: 1686.1567 - mae_months: 33.4638 - val_loss: 4105.6904 - val_mae_months: 50.1626\n",
      "Epoch 19/100\n",
      "\n",
      "Epoch 00019: LearningRateScheduler reducing learning rate to 0.0039810717055349725.\n",
      "78/78 [==============================] - 32s 414ms/step - loss: 1697.8272 - mae_months: 33.6082 - val_loss: 1826.1300 - val_mae_months: 33.1962\n",
      "Epoch 20/100\n",
      "\n",
      "Epoch 00020: LearningRateScheduler reducing learning rate to 0.004298662347082277.\n",
      "78/78 [==============================] - 28s 358ms/step - loss: 1638.9245 - mae_months: 33.0082 - val_loss: 1695.5154 - val_mae_months: 33.9387\n",
      "Epoch 21/100\n",
      "\n",
      "Epoch 00021: LearningRateScheduler reducing learning rate to 0.004641588833612778.\n",
      "78/78 [==============================] - 32s 415ms/step - loss: 1711.9707 - mae_months: 33.8727 - val_loss: 95634210816.0000 - val_mae_months: 6304.2739\n",
      "Epoch 22/100\n",
      "\n",
      "Epoch 00022: LearningRateScheduler reducing learning rate to 0.005011872336272722.\n",
      "78/78 [==============================] - 32s 414ms/step - loss: 1704.6753 - mae_months: 33.6849 - val_loss: 2053.1323 - val_mae_months: 34.3151\n",
      "Epoch 23/100\n",
      "\n",
      "Epoch 00023: LearningRateScheduler reducing learning rate to 0.005411695265464636.\n",
      "78/78 [==============================] - 33s 419ms/step - loss: 1652.8607 - mae_months: 33.1706 - val_loss: 17640.2598 - val_mae_months: 71.1127\n",
      "Epoch 24/100\n",
      "\n",
      "Epoch 00024: LearningRateScheduler reducing learning rate to 0.005843414133735177.\n",
      "78/78 [==============================] - 33s 419ms/step - loss: 1651.2826 - mae_months: 33.0163 - val_loss: 15573105664.0000 - val_mae_months: 4945.7539\n",
      "Epoch 25/100\n",
      "\n",
      "Epoch 00025: LearningRateScheduler reducing learning rate to 0.006309573444801934.\n",
      "78/78 [==============================] - 31s 401ms/step - loss: 1690.3203 - mae_months: 33.5633 - val_loss: 16351102.0000 - val_mae_months: 1670.9423\n",
      "Epoch 26/100\n",
      "\n",
      "Epoch 00026: LearningRateScheduler reducing learning rate to 0.0068129206905796135.\n",
      "78/78 [==============================] - 32s 417ms/step - loss: 1673.4588 - mae_months: 33.3092 - val_loss: 220908670752391168.0000 - val_mae_months: 38167608.0000\n",
      "Epoch 27/100\n",
      "\n",
      "Epoch 00027: LearningRateScheduler reducing learning rate to 0.007356422544596414.\n",
      "78/78 [==============================] - 31s 404ms/step - loss: 1712.0276 - mae_months: 33.7115 - val_loss: 1728.1088 - val_mae_months: 32.7642\n",
      "Epoch 28/100\n",
      "\n",
      "Epoch 00028: LearningRateScheduler reducing learning rate to 0.007943282347242816.\n",
      "78/78 [==============================] - 32s 406ms/step - loss: 1643.2239 - mae_months: 33.1689 - val_loss: 9686.8926 - val_mae_months: 89.6593\n",
      "Epoch 29/100\n",
      "\n",
      "Epoch 00029: LearningRateScheduler reducing learning rate to 0.008576958985908942.\n",
      "78/78 [==============================] - 31s 397ms/step - loss: 1683.2404 - mae_months: 33.3234 - val_loss: 2107.8186 - val_mae_months: 35.6394\n",
      "Epoch 30/100\n",
      "\n",
      "Epoch 00030: LearningRateScheduler reducing learning rate to 0.009261187281287935.\n",
      "78/78 [==============================] - 33s 421ms/step - loss: 1668.9234 - mae_months: 33.3787 - val_loss: 4740541634377154560.0000 - val_mae_months: 794795456.0000\n",
      "Epoch 31/100\n",
      "\n",
      "Epoch 00031: LearningRateScheduler reducing learning rate to 0.01.\n",
      "78/78 [==============================] - 30s 383ms/step - loss: 1669.9444 - mae_months: 33.2272 - val_loss: 342295371055104.0000 - val_mae_months: 375935.3125\n",
      "Epoch 32/100\n",
      "\n",
      "Epoch 00032: LearningRateScheduler reducing learning rate to 0.0107977516232771.\n",
      "78/78 [==============================] - 32s 406ms/step - loss: 1605.8651 - mae_months: 32.5226 - val_loss: 5460.1406 - val_mae_months: 59.9091\n",
      "Epoch 33/100\n",
      "\n",
      "Epoch 00033: LearningRateScheduler reducing learning rate to 0.011659144011798317.\n",
      "78/78 [==============================] - 30s 378ms/step - loss: 1665.6693 - mae_months: 33.2530 - val_loss: 2880.7144 - val_mae_months: 40.7784\n",
      "Epoch 34/100\n",
      "\n",
      "Epoch 00034: LearningRateScheduler reducing learning rate to 0.012589254117941675.\n",
      "78/78 [==============================] - 32s 406ms/step - loss: 1657.0352 - mae_months: 33.2225 - val_loss: 12581.0430 - val_mae_months: 103.8915\n",
      "Epoch 35/100\n",
      "\n",
      "Epoch 00035: LearningRateScheduler reducing learning rate to 0.013593563908785255.\n",
      "78/78 [==============================] - 29s 377ms/step - loss: 1620.1117 - mae_months: 32.9030 - val_loss: nan - val_mae_months: nan\n",
      "Epoch 36/100\n",
      "\n",
      "Epoch 00036: LearningRateScheduler reducing learning rate to 0.014677992676220698.\n",
      "78/78 [==============================] - 32s 406ms/step - loss: 1631.6351 - mae_months: 32.9266 - val_loss: nan - val_mae_months: nan\n",
      "Epoch 37/100\n",
      "\n",
      "Epoch 00037: LearningRateScheduler reducing learning rate to 0.015848931924611134.\n",
      "78/78 [==============================] - 29s 375ms/step - loss: 1583.6032 - mae_months: 32.4207 - val_loss: nan - val_mae_months: nan\n",
      "Epoch 38/100\n",
      "\n",
      "Epoch 00038: LearningRateScheduler reducing learning rate to 0.01711328304161781.\n",
      "78/78 [==============================] - 31s 400ms/step - loss: 1489.2624 - mae_months: 31.2786 - val_loss: nan - val_mae_months: nan\n",
      "Epoch 39/100\n",
      "\n",
      "Epoch 00039: LearningRateScheduler reducing learning rate to 0.018478497974222907.\n",
      "78/78 [==============================] - 29s 373ms/step - loss: 1378.6247 - mae_months: 29.7940 - val_loss: nan - val_mae_months: nan\n",
      "Epoch 40/100\n",
      "\n",
      "Epoch 00040: LearningRateScheduler reducing learning rate to 0.0199526231496888.\n",
      "78/78 [==============================] - 32s 405ms/step - loss: 1336.4272 - mae_months: 29.2898 - val_loss: nan - val_mae_months: nan\n",
      "Epoch 41/100\n",
      "\n",
      "Epoch 00041: LearningRateScheduler reducing learning rate to 0.021544346900318832.\n",
      "78/78 [==============================] - 29s 372ms/step - loss: nan - mae_months: nan - val_loss: nan - val_mae_months: nan\n",
      "Epoch 42/100\n",
      "\n",
      "Epoch 00042: LearningRateScheduler reducing learning rate to 0.023263050671536264.\n",
      "78/78 [==============================] - 32s 407ms/step - loss: nan - mae_months: nan - val_loss: nan - val_mae_months: nan\n",
      "Epoch 43/100\n",
      "\n",
      "Epoch 00043: LearningRateScheduler reducing learning rate to 0.025118864315095794.\n",
      "78/78 [==============================] - 32s 414ms/step - loss: nan - mae_months: nan - val_loss: nan - val_mae_months: nan\n",
      "Epoch 44/100\n",
      "\n",
      "Epoch 00044: LearningRateScheduler reducing learning rate to 0.02712272579332028.\n",
      "78/78 [==============================] - 33s 422ms/step - loss: nan - mae_months: nan - val_loss: nan - val_mae_months: nan\n",
      "Epoch 45/100\n",
      "\n",
      "Epoch 00045: LearningRateScheduler reducing learning rate to 0.02928644564625236.\n",
      "78/78 [==============================] - 33s 425ms/step - loss: nan - mae_months: nan - val_loss: nan - val_mae_months: nan\n",
      "Epoch 46/100\n",
      "\n",
      "Epoch 00046: LearningRateScheduler reducing learning rate to 0.03162277660168379.\n",
      "78/78 [==============================] - 32s 408ms/step - loss: nan - mae_months: nan - val_loss: nan - val_mae_months: nan\n",
      "Epoch 47/100\n",
      "\n",
      "Epoch 00047: LearningRateScheduler reducing learning rate to 0.034145488738336026.\n",
      "78/78 [==============================] - 32s 409ms/step - loss: nan - mae_months: nan - val_loss: nan - val_mae_months: nan\n",
      "Epoch 48/100\n",
      "\n",
      "Epoch 00048: LearningRateScheduler reducing learning rate to 0.036869450645195756.\n",
      "78/78 [==============================] - 31s 404ms/step - loss: nan - mae_months: nan - val_loss: nan - val_mae_months: nan\n",
      "Epoch 49/100\n",
      "\n",
      "Epoch 00049: LearningRateScheduler reducing learning rate to 0.039810717055349734.\n",
      "78/78 [==============================] - 31s 393ms/step - loss: nan - mae_months: nan - val_loss: nan - val_mae_months: nan\n",
      "Epoch 50/100\n",
      "\n",
      "Epoch 00050: LearningRateScheduler reducing learning rate to 0.042986623470822764.\n",
      "78/78 [==============================] - 31s 403ms/step - loss: nan - mae_months: nan - val_loss: nan - val_mae_months: nan\n",
      "Epoch 51/100\n",
      "\n",
      "Epoch 00051: LearningRateScheduler reducing learning rate to 0.0464158883361278.\n",
      "78/78 [==============================] - 31s 398ms/step - loss: nan - mae_months: nan - val_loss: nan - val_mae_months: nan\n",
      "Epoch 52/100\n",
      "\n",
      "Epoch 00052: LearningRateScheduler reducing learning rate to 0.05011872336272723.\n",
      "78/78 [==============================] - 31s 399ms/step - loss: nan - mae_months: nan - val_loss: nan - val_mae_months: nan\n",
      "Epoch 53/100\n",
      "\n",
      "Epoch 00053: LearningRateScheduler reducing learning rate to 0.054116952654646375.\n",
      "78/78 [==============================] - 31s 395ms/step - loss: nan - mae_months: nan - val_loss: nan - val_mae_months: nan\n",
      "Epoch 54/100\n",
      "\n",
      "Epoch 00054: LearningRateScheduler reducing learning rate to 0.05843414133735175.\n",
      "78/78 [==============================] - 30s 388ms/step - loss: nan - mae_months: nan - val_loss: nan - val_mae_months: nan\n",
      "Epoch 55/100\n",
      "\n",
      "Epoch 00055: LearningRateScheduler reducing learning rate to 0.06309573444801933.\n",
      "78/78 [==============================] - 31s 396ms/step - loss: nan - mae_months: nan - val_loss: nan - val_mae_months: nan\n",
      "Epoch 56/100\n",
      "\n",
      "Epoch 00056: LearningRateScheduler reducing learning rate to 0.06812920690579612.\n",
      "78/78 [==============================] - 31s 396ms/step - loss: nan - mae_months: nan - val_loss: nan - val_mae_months: nan\n",
      "Epoch 57/100\n",
      "\n",
      "Epoch 00057: LearningRateScheduler reducing learning rate to 0.07356422544596414.\n",
      "78/78 [==============================] - 31s 396ms/step - loss: nan - mae_months: nan - val_loss: nan - val_mae_months: nan\n",
      "Epoch 58/100\n",
      "\n",
      "Epoch 00058: LearningRateScheduler reducing learning rate to 0.07943282347242814.\n",
      "78/78 [==============================] - 30s 387ms/step - loss: nan - mae_months: nan - val_loss: nan - val_mae_months: nan\n",
      "Epoch 59/100\n",
      "\n",
      "Epoch 00059: LearningRateScheduler reducing learning rate to 0.0857695898590894.\n",
      "78/78 [==============================] - 31s 399ms/step - loss: nan - mae_months: nan - val_loss: nan - val_mae_months: nan\n",
      "Epoch 60/100\n",
      "\n",
      "Epoch 00060: LearningRateScheduler reducing learning rate to 0.09261187281287933.\n",
      "78/78 [==============================] - 31s 396ms/step - loss: nan - mae_months: nan - val_loss: nan - val_mae_months: nan\n",
      "Epoch 61/100\n",
      "\n",
      "Epoch 00061: LearningRateScheduler reducing learning rate to 0.1.\n",
      "78/78 [==============================] - 31s 397ms/step - loss: nan - mae_months: nan - val_loss: nan - val_mae_months: nan\n",
      "Epoch 62/100\n",
      "\n",
      "Epoch 00062: LearningRateScheduler reducing learning rate to 0.10797751623277094.\n",
      "78/78 [==============================] - 32s 415ms/step - loss: nan - mae_months: nan - val_loss: nan - val_mae_months: nan\n",
      "Epoch 63/100\n",
      "\n",
      "Epoch 00063: LearningRateScheduler reducing learning rate to 0.11659144011798322.\n",
      "78/78 [==============================] - 32s 413ms/step - loss: nan - mae_months: nan - val_loss: nan - val_mae_months: nan\n",
      "Epoch 64/100\n",
      "\n",
      "Epoch 00064: LearningRateScheduler reducing learning rate to 0.12589254117941676.\n",
      "78/78 [==============================] - 32s 406ms/step - loss: nan - mae_months: nan - val_loss: nan - val_mae_months: nan\n",
      "Epoch 65/100\n",
      "\n",
      "Epoch 00065: LearningRateScheduler reducing learning rate to 0.13593563908785256.\n",
      "78/78 [==============================] - 32s 414ms/step - loss: nan - mae_months: nan - val_loss: nan - val_mae_months: nan\n",
      "Epoch 66/100\n",
      "\n",
      "Epoch 00066: LearningRateScheduler reducing learning rate to 0.1467799267622069.\n",
      "78/78 [==============================] - 31s 396ms/step - loss: nan - mae_months: nan - val_loss: nan - val_mae_months: nan\n",
      "Epoch 67/100\n",
      "\n",
      "Epoch 00067: LearningRateScheduler reducing learning rate to 0.15848931924611143.\n",
      "78/78 [==============================] - 32s 413ms/step - loss: nan - mae_months: nan - val_loss: nan - val_mae_months: nan\n",
      "Epoch 68/100\n",
      "\n",
      "Epoch 00068: LearningRateScheduler reducing learning rate to 0.1711328304161781.\n",
      "78/78 [==============================] - 31s 391ms/step - loss: nan - mae_months: nan - val_loss: nan - val_mae_months: nan\n",
      "Epoch 69/100\n",
      "\n",
      "Epoch 00069: LearningRateScheduler reducing learning rate to 0.18478497974222907.\n",
      "78/78 [==============================] - 32s 411ms/step - loss: nan - mae_months: nan - val_loss: nan - val_mae_months: nan\n",
      "Epoch 70/100\n",
      "\n",
      "Epoch 00070: LearningRateScheduler reducing learning rate to 0.1995262314968879.\n",
      "78/78 [==============================] - 30s 385ms/step - loss: nan - mae_months: nan - val_loss: nan - val_mae_months: nan\n",
      "Epoch 71/100\n",
      "\n",
      "Epoch 00071: LearningRateScheduler reducing learning rate to 0.21544346900318845.\n",
      "78/78 [==============================] - 32s 414ms/step - loss: nan - mae_months: nan - val_loss: nan - val_mae_months: nan\n",
      "Epoch 72/100\n",
      "\n",
      "Epoch 00072: LearningRateScheduler reducing learning rate to 0.23263050671536264.\n",
      "78/78 [==============================] - 30s 383ms/step - loss: nan - mae_months: nan - val_loss: nan - val_mae_months: nan\n",
      "Epoch 73/100\n",
      "\n",
      "Epoch 00073: LearningRateScheduler reducing learning rate to 0.25118864315095796.\n",
      "78/78 [==============================] - 32s 406ms/step - loss: nan - mae_months: nan - val_loss: nan - val_mae_months: nan\n",
      "Epoch 74/100\n",
      "\n",
      "Epoch 00074: LearningRateScheduler reducing learning rate to 0.2712272579332027.\n",
      "78/78 [==============================] - 30s 382ms/step - loss: nan - mae_months: nan - val_loss: nan - val_mae_months: nan\n",
      "Epoch 75/100\n",
      "\n",
      "Epoch 00075: LearningRateScheduler reducing learning rate to 0.29286445646252374.\n",
      "78/78 [==============================] - 32s 410ms/step - loss: nan - mae_months: nan - val_loss: nan - val_mae_months: nan\n",
      "Epoch 76/100\n",
      "\n",
      "Epoch 00076: LearningRateScheduler reducing learning rate to 0.31622776601683794.\n",
      "78/78 [==============================] - 30s 382ms/step - loss: nan - mae_months: nan - val_loss: nan - val_mae_months: nan\n",
      "Epoch 77/100\n",
      "\n",
      "Epoch 00077: LearningRateScheduler reducing learning rate to 0.3414548873833601.\n",
      "78/78 [==============================] - 32s 413ms/step - loss: nan - mae_months: nan - val_loss: nan - val_mae_months: nan\n",
      "Epoch 78/100\n",
      "\n",
      "Epoch 00078: LearningRateScheduler reducing learning rate to 0.3686945064519577.\n",
      "78/78 [==============================] - 30s 381ms/step - loss: nan - mae_months: nan - val_loss: nan - val_mae_months: nan\n",
      "Epoch 79/100\n",
      "\n",
      "Epoch 00079: LearningRateScheduler reducing learning rate to 0.3981071705534973.\n",
      "78/78 [==============================] - 31s 398ms/step - loss: nan - mae_months: nan - val_loss: nan - val_mae_months: nan\n",
      "Epoch 80/100\n",
      "\n",
      "Epoch 00080: LearningRateScheduler reducing learning rate to 0.42986623470822766.\n",
      "78/78 [==============================] - 30s 380ms/step - loss: nan - mae_months: nan - val_loss: nan - val_mae_months: nan\n",
      "Epoch 81/100\n",
      "\n",
      "Epoch 00081: LearningRateScheduler reducing learning rate to 0.46415888336127775.\n",
      "78/78 [==============================] - 31s 394ms/step - loss: nan - mae_months: nan - val_loss: nan - val_mae_months: nan\n",
      "Epoch 82/100\n",
      "\n",
      "Epoch 00082: LearningRateScheduler reducing learning rate to 0.5011872336272725.\n",
      "78/78 [==============================] - 30s 381ms/step - loss: nan - mae_months: nan - val_loss: nan - val_mae_months: nan\n",
      "Epoch 83/100\n",
      "\n",
      "Epoch 00083: LearningRateScheduler reducing learning rate to 0.5411695265464638.\n",
      "78/78 [==============================] - 31s 400ms/step - loss: nan - mae_months: nan - val_loss: nan - val_mae_months: nan\n",
      "Epoch 84/100\n",
      "\n",
      "Epoch 00084: LearningRateScheduler reducing learning rate to 0.5843414133735175.\n",
      "78/78 [==============================] - 31s 392ms/step - loss: nan - mae_months: nan - val_loss: nan - val_mae_months: nan\n",
      "Epoch 85/100\n",
      "\n",
      "Epoch 00085: LearningRateScheduler reducing learning rate to 0.630957344480193.\n",
      "78/78 [==============================] - 32s 408ms/step - loss: nan - mae_months: nan - val_loss: nan - val_mae_months: nan\n",
      "Epoch 86/100\n",
      "\n",
      "Epoch 00086: LearningRateScheduler reducing learning rate to 0.6812920690579615.\n",
      "78/78 [==============================] - 33s 423ms/step - loss: nan - mae_months: nan - val_loss: nan - val_mae_months: nan\n",
      "Epoch 87/100\n",
      "\n",
      "Epoch 00087: LearningRateScheduler reducing learning rate to 0.7356422544596414.\n",
      "78/78 [==============================] - 32s 406ms/step - loss: nan - mae_months: nan - val_loss: nan - val_mae_months: nan\n",
      "Epoch 88/100\n",
      "\n",
      "Epoch 00088: LearningRateScheduler reducing learning rate to 0.7943282347242813.\n",
      "78/78 [==============================] - 33s 421ms/step - loss: nan - mae_months: nan - val_loss: nan - val_mae_months: nan\n",
      "Epoch 89/100\n",
      "\n",
      "Epoch 00089: LearningRateScheduler reducing learning rate to 0.8576958985908938.\n",
      "78/78 [==============================] - 30s 389ms/step - loss: nan - mae_months: nan - val_loss: nan - val_mae_months: nan\n",
      "Epoch 90/100\n",
      "\n",
      "Epoch 00090: LearningRateScheduler reducing learning rate to 0.9261187281287937.\n",
      "78/78 [==============================] - 32s 412ms/step - loss: nan - mae_months: nan - val_loss: nan - val_mae_months: nan\n",
      "Epoch 91/100\n",
      "\n",
      "Epoch 00091: LearningRateScheduler reducing learning rate to 1.0.\n",
      "78/78 [==============================] - 31s 397ms/step - loss: nan - mae_months: nan - val_loss: nan - val_mae_months: nan\n",
      "Epoch 92/100\n",
      "\n",
      "Epoch 00092: LearningRateScheduler reducing learning rate to 1.0797751623277092.\n",
      "78/78 [==============================] - 33s 421ms/step - loss: nan - mae_months: nan - val_loss: nan - val_mae_months: nan\n",
      "Epoch 93/100\n",
      "\n",
      "Epoch 00093: LearningRateScheduler reducing learning rate to 1.1659144011798324.\n",
      "78/78 [==============================] - 30s 384ms/step - loss: nan - mae_months: nan - val_loss: nan - val_mae_months: nan\n",
      "Epoch 94/100\n",
      "\n",
      "Epoch 00094: LearningRateScheduler reducing learning rate to 1.2589254117941675.\n",
      "78/78 [==============================] - 32s 406ms/step - loss: nan - mae_months: nan - val_loss: nan - val_mae_months: nan\n",
      "Epoch 95/100\n",
      "\n",
      "Epoch 00095: LearningRateScheduler reducing learning rate to 1.3593563908785256.\n",
      "78/78 [==============================] - 29s 370ms/step - loss: nan - mae_months: nan - val_loss: nan - val_mae_months: nan\n",
      "Epoch 96/100\n",
      "\n",
      "Epoch 00096: LearningRateScheduler reducing learning rate to 1.467799267622069.\n",
      "78/78 [==============================] - 32s 412ms/step - loss: nan - mae_months: nan - val_loss: nan - val_mae_months: nan\n",
      "Epoch 97/100\n",
      "\n",
      "Epoch 00097: LearningRateScheduler reducing learning rate to 1.584893192461114.\n",
      "78/78 [==============================] - 29s 369ms/step - loss: nan - mae_months: nan - val_loss: nan - val_mae_months: nan\n",
      "Epoch 98/100\n",
      "\n",
      "Epoch 00098: LearningRateScheduler reducing learning rate to 1.711328304161781.\n",
      "78/78 [==============================] - 33s 425ms/step - loss: nan - mae_months: nan - val_loss: nan - val_mae_months: nan\n",
      "Epoch 99/100\n",
      "\n",
      "Epoch 00099: LearningRateScheduler reducing learning rate to 1.8478497974222907.\n",
      "78/78 [==============================] - 29s 370ms/step - loss: nan - mae_months: nan - val_loss: nan - val_mae_months: nan\n",
      "Epoch 100/100\n",
      "\n",
      "Epoch 00100: LearningRateScheduler reducing learning rate to 1.9952623149688788.\n",
      "78/78 [==============================] - 32s 407ms/step - loss: nan - mae_months: nan - val_loss: nan - val_mae_months: nan\n"
     ]
    }
   ],
   "source": [
    "initalHistory = model.fit(train_dataset, \n",
    "                    steps_per_epoch=STEPS_PER_EPOCH, \n",
    "                    # epochs=3,\n",
    "                    epochs = 100,\n",
    "                    validation_data=valid_dataset,\n",
    "                    validation_steps=VALID_STEPS,\n",
    "                    callbacks = [schedual])"
   ]
  },
  {
   "cell_type": "code",
   "execution_count": 24,
   "id": "5b2235ec",
   "metadata": {
    "execution": {
     "iopub.execute_input": "2022-04-08T16:07:22.868246Z",
     "iopub.status.busy": "2022-04-08T16:07:22.867573Z",
     "iopub.status.idle": "2022-04-08T16:07:22.871778Z",
     "shell.execute_reply": "2022-04-08T16:07:22.871097Z",
     "shell.execute_reply.started": "2022-04-08T12:20:53.233305Z"
    },
    "papermill": {
     "duration": 2.528393,
     "end_time": "2022-04-08T16:07:22.872007",
     "exception": false,
     "start_time": "2022-04-08T16:07:20.343614",
     "status": "completed"
    },
    "tags": []
   },
   "outputs": [
    {
     "name": "stdout",
     "output_type": "stream",
     "text": [
      "dict_keys(['loss', 'mae_months', 'val_loss', 'val_mae_months', 'lr'])\n"
     ]
    }
   ],
   "source": [
    "print(initalHistory.history.keys())"
   ]
  },
  {
   "cell_type": "code",
   "execution_count": 25,
   "id": "6ef412ca",
   "metadata": {
    "execution": {
     "iopub.execute_input": "2022-04-08T16:07:27.908633Z",
     "iopub.status.busy": "2022-04-08T16:07:27.907974Z",
     "iopub.status.idle": "2022-04-08T16:07:28.223872Z",
     "shell.execute_reply": "2022-04-08T16:07:28.223230Z",
     "shell.execute_reply.started": "2022-04-08T12:21:32.340637Z"
    },
    "papermill": {
     "duration": 2.798563,
     "end_time": "2022-04-08T16:07:28.224022",
     "exception": false,
     "start_time": "2022-04-08T16:07:25.425459",
     "status": "completed"
    },
    "tags": []
   },
   "outputs": [
    {
     "data": {
      "text/plain": [
       "<matplotlib.legend.Legend at 0x7f1f243cac90>"
      ]
     },
     "execution_count": 25,
     "metadata": {},
     "output_type": "execute_result"
    },
    {
     "data": {
      "image/png": "[encoded data removed]",
      "text/plain": [
       "<Figure size 1296x576 with 1 Axes>"
      ]
     },
     "metadata": {
      "needs_background": "light"
     },
     "output_type": "display_data"
    }
   ],
   "source": [
    "plt.figure(figsize= (18, 8))\n",
    "plt.plot(np.arange(1, 101), initalHistory.history['mae_months'], label = 'Mean average error', lw = 3)\n",
    "plt.plot(np.arange(1, 101), initalHistory.history['loss'], label = 'Loss', lw = 3)\n",
    "plt.plot(np.arange(1, 101), initalHistory.history['lr'], label = 'Learning rate', lw = 3, color = '#000', linestyle = '--')\n",
    "plt.legend()"
   ]
  },
  {
   "cell_type": "code",
   "execution_count": 26,
   "id": "2361559d",
   "metadata": {
    "execution": {
     "iopub.execute_input": "2022-04-08T16:07:33.291595Z",
     "iopub.status.busy": "2022-04-08T16:07:33.290903Z",
     "iopub.status.idle": "2022-04-08T16:07:33.292495Z",
     "shell.execute_reply": "2022-04-08T16:07:33.293101Z",
     "shell.execute_reply.started": "2022-04-08T12:21:52.436057Z"
    },
    "papermill": {
     "duration": 2.55616,
     "end_time": "2022-04-08T16:07:33.293272",
     "exception": false,
     "start_time": "2022-04-08T16:07:30.737112",
     "status": "completed"
    },
    "tags": []
   },
   "outputs": [],
   "source": [
    "maeNPArr = np.asarray(initalHistory.history['mae_months'])\n",
    "lrNpArr = np.asarray(initalHistory.history['lr'])\n",
    "lossNpArr = np.asarray(initalHistory.history['loss'])"
   ]
  },
  {
   "cell_type": "code",
   "execution_count": 27,
   "id": "9f46a9f6",
   "metadata": {
    "execution": {
     "iopub.execute_input": "2022-04-08T16:07:38.407143Z",
     "iopub.status.busy": "2022-04-08T16:07:38.406488Z",
     "iopub.status.idle": "2022-04-08T16:07:38.410770Z",
     "shell.execute_reply": "2022-04-08T16:07:38.411395Z",
     "shell.execute_reply.started": "2022-04-08T12:22:13.53665Z"
    },
    "papermill": {
     "duration": 2.538202,
     "end_time": "2022-04-08T16:07:38.411576",
     "exception": false,
     "start_time": "2022-04-08T16:07:35.873374",
     "status": "completed"
    },
    "tags": []
   },
   "outputs": [],
   "source": [
    "maeNormalized = maeNPArr[:] * (1 / maeNPArr.max())\n",
    "lrNormalized = lrNpArr[:] * (1 / lrNpArr.max())\n",
    "lossNorm = lossNpArr[:] * (1 / lossNpArr.max())"
   ]
  },
  {
   "cell_type": "code",
   "execution_count": 28,
   "id": "978f6248",
   "metadata": {
    "execution": {
     "iopub.execute_input": "2022-04-08T16:07:43.350217Z",
     "iopub.status.busy": "2022-04-08T16:07:43.349497Z",
     "iopub.status.idle": "2022-04-08T16:07:43.631374Z",
     "shell.execute_reply": "2022-04-08T16:07:43.630658Z",
     "shell.execute_reply.started": "2022-04-08T12:22:21.895083Z"
    },
    "papermill": {
     "duration": 2.764001,
     "end_time": "2022-04-08T16:07:43.631523",
     "exception": false,
     "start_time": "2022-04-08T16:07:40.867522",
     "status": "completed"
    },
    "tags": []
   },
   "outputs": [
    {
     "data": {
      "text/plain": [
       "<matplotlib.legend.Legend at 0x7f1e967fe210>"
      ]
     },
     "execution_count": 28,
     "metadata": {},
     "output_type": "execute_result"
    },
    {
     "data": {
      "image/png": "[encoded data removed]",
      "text/plain": [
       "<Figure size 1296x576 with 1 Axes>"
      ]
     },
     "metadata": {
      "needs_background": "light"
     },
     "output_type": "display_data"
    }
   ],
   "source": [
    "plt.figure(figsize= (18, 8))\n",
    "plt.plot(np.arange(1, 101), maeNormalized, label = 'Mean average error', lw = 3)\n",
    "plt.plot(np.arange(1, 101), lossNorm, label = 'Loss', lw = 3)\n",
    "plt.plot(np.arange(1, 101), lrNormalized, label = 'Learning rate', lw = 3, color = '#000', linestyle = '--')\n",
    "plt.legend()"
   ]
  },
  {
   "cell_type": "code",
   "execution_count": 29,
   "id": "9d35db57",
   "metadata": {
    "execution": {
     "iopub.execute_input": "2022-04-08T16:07:48.606965Z",
     "iopub.status.busy": "2022-04-08T16:07:48.606346Z",
     "iopub.status.idle": "2022-04-08T16:07:49.165045Z",
     "shell.execute_reply": "2022-04-08T16:07:49.164511Z",
     "shell.execute_reply.started": "2022-04-08T12:22:46.749943Z"
    },
    "papermill": {
     "duration": 3.068416,
     "end_time": "2022-04-08T16:07:49.165231",
     "exception": false,
     "start_time": "2022-04-08T16:07:46.096815",
     "status": "completed"
    },
    "tags": []
   },
   "outputs": [
    {
     "data": {
      "text/plain": [
       "Text(0, 0.5, 'Loss')"
      ]
     },
     "execution_count": 29,
     "metadata": {},
     "output_type": "execute_result"
    },
    {
     "data": {
      "image/png": "[encoded data removed]",
      "text/plain": [
       "<Figure size 1296x576 with 1 Axes>"
      ]
     },
     "metadata": {
      "needs_background": "light"
     },
     "output_type": "display_data"
    }
   ],
   "source": [
    "learning_rates = 1e-3 * (10 ** (np.arange(100) / 30))\n",
    "\n",
    "plt.figure(figsize=(18, 8))\n",
    "plt.semilogx(learning_rates, lossNorm, lw = 3, color = '#000')\n",
    "plt.xlabel('Learning rate')\n",
    "plt.ylabel('Loss')"
   ]
  }
 ],
 "metadata": {
  "kernelspec": {
   "display_name": "Python 3",
   "language": "python",
   "name": "python3"
  },
  "language_info": {
   "codemirror_mode": {
    "name": "ipython",
    "version": 3
   },
   "file_extension": ".py",
   "mimetype": "text/x-python",
   "name": "python",
   "nbconvert_exporter": "python",
   "pygments_lexer": "ipython3",
   "version": "3.7.10"
  },
  "papermill": {
   "default_parameters": {},
   "duration": 3221.249234,
   "end_time": "2022-04-08T16:07:54.333310",
   "environment_variables": {},
   "exception": null,
   "input_path": "__notebook__.ipynb",
   "output_path": "__notebook__.ipynb",
   "parameters": {},
   "start_time": "2022-04-08T15:14:13.084076",
   "version": "2.3.3"
  }
 },
 "nbformat": 4,
 "nbformat_minor": 5
}
